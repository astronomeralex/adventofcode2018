{
 "cells": [
  {
   "cell_type": "code",
   "execution_count": 1,
   "metadata": {},
   "outputs": [],
   "source": [
    "# experimenting with solution from https://github.com/LinusCDE/AdventOfCode2018/blob/master/puzzle8.py\n",
    "class Node:\n",
    "    \"\"\"Representation of a node in the puzzle.\"\"\"\n",
    "\n",
    "    def __init__(self, children: list, headerEntries: list):\n",
    "        self.children = children\n",
    "        self.headerEntries = headerEntries\n",
    "    \n",
    "    def totalHeaderEntrySum(self):\n",
    "        return sum(self.headerEntries) + sum(map(lambda node: node.totalHeaderEntrySum(), self.children))\n",
    "\n",
    "    def totalValue(self):\n",
    "        if len(self.children) == 0:\n",
    "            return sum(self.headerEntries)\n",
    "        else:\n",
    "            totalValue = 0\n",
    "            for childNumber in self.headerEntries:\n",
    "                if childNumber <= len(self.children):\n",
    "                    totalValue += self.children[childNumber - 1].totalValue()\n",
    "            return totalValue\n",
    "\n",
    "\n",
    "def stream_input(puzzle_input: str):\n",
    "    \"\"\"Yield all the numbers to treat the input as a streamed file.\"\"\"\n",
    "    for number in map(int, puzzle_input.split()):\n",
    "        yield number\n",
    "\n",
    "\n",
    "def read_node(stream):\n",
    "    \"\"\"\n",
    "    Read next node in stream.\n",
    "    Calls itself for all sub-nodes recursivly.\n",
    "    \"\"\"\n",
    "    childCount, headerEntriesCount = next(stream), next(stream)\n",
    "\n",
    "    children = [read_node(stream) for _ in range(childCount)]\n",
    "    headerEntries = [next(stream) for _ in range(headerEntriesCount)]\n",
    "    return Node(children, headerEntries)\n",
    "\n",
    "\n",
    "def solve_part_1(puzzle_input: str):\n",
    "    root_node = read_node(stream_input(puzzle_input))\n",
    "    return root_node.totalHeaderEntrySum()\n",
    "\n",
    "\n",
    "def solve_part_2(puzzle_input: str):\n",
    "    root_node = read_node(stream_input(puzzle_input))\n",
    "    return root_node.totalValue()"
   ]
  },
  {
   "cell_type": "code",
   "execution_count": 5,
   "metadata": {},
   "outputs": [],
   "source": [
    "with open(\"test_input.txt\") as f:\n",
    "    test_input = f.read()\n",
    "assert solve_part_1(test_input) == 138\n",
    "assert solve_part_2(test_input) == 66"
   ]
  },
  {
   "cell_type": "code",
   "execution_count": 6,
   "metadata": {},
   "outputs": [
    {
     "name": "stdout",
     "output_type": "stream",
     "text": [
      "Puzzle 1 solution: 42768\n",
      "Puzzle 2 solution: 34348\n"
     ]
    }
   ],
   "source": [
    "with open(\"input.txt\") as f:\n",
    "    data = f.read()\n",
    "print('Puzzle 1 solution:', solve_part_1(data))\n",
    "print('Puzzle 2 solution:', solve_part_2(data))"
   ]
  },
  {
   "cell_type": "code",
   "execution_count": null,
   "metadata": {},
   "outputs": [],
   "source": []
  }
 ],
 "metadata": {
  "kernelspec": {
   "display_name": "Python 3",
   "language": "python",
   "name": "python3"
  },
  "language_info": {
   "codemirror_mode": {
    "name": "ipython",
    "version": 3
   },
   "file_extension": ".py",
   "mimetype": "text/x-python",
   "name": "python",
   "nbconvert_exporter": "python",
   "pygments_lexer": "ipython3",
   "version": "3.5.6"
  }
 },
 "nbformat": 4,
 "nbformat_minor": 2
}
