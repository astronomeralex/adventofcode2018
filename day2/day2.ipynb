{
 "cells": [
  {
   "cell_type": "markdown",
   "metadata": {},
   "source": [
    "# Day 2\n",
    "## Puzzle 1"
   ]
  },
  {
   "cell_type": "code",
   "execution_count": 7,
   "metadata": {},
   "outputs": [
    {
     "name": "stdout",
     "output_type": "stream",
     "text": [
      "                          boxid\n",
      "0    kbqwtcvzgumhpwelrnaxydpfuj\n",
      "1    kbqwtcvzgsmhpoelryaxydiqij\n",
      "2    kbqwpcvzssmhpoelgnaxydifuj\n",
      "3    kbqgtcvxgsmhpoalrnaxydifuj\n",
      "4    kbqwtcvygsmhpoelrnaxydiaut\n",
      "5    kbqwtcvjgsmhpoelrnawydzfuj\n",
      "6    kbqftcvzgsmhpoeprnaxydifus\n",
      "7    rbqwtcgzgsxhpoelrnaxydifuj\n",
      "8    kbqwtlvzgvmhpoelrnaxkdifuj\n",
      "9    kbqwtcvzgsmhpolqrnaxydifub\n",
      "10   kbqbtcqzgsmhposlrnaxydifuj\n",
      "11   kbqwmcvzgswhpoelxnaxydifuj\n",
      "12   kbqwtyvzgsmhkoelrnsxydifuj\n",
      "13   khqwtcvzgsmhqoelinaxydifuj\n",
      "14   koqwtcvzcsmhpoelrnaxydizuj\n",
      "15   kbqwtcvzlsmhpoezrnaxydmfuj\n",
      "16   kbqwtcvzdsmhpoelrjaxydifij\n",
      "17   kbqwtcvzgsmhpoelrncxyjifuk\n",
      "18   kbtwtcvzgsmhpoelonaxydiwuj\n",
      "19   kbqwfcrzgsmhpoelrnaeydifuj\n",
      "20   kbqutcvkgsmhpoelrnfxydifuj\n",
      "21   kbqwtcvzgsmvvoelrnaxydihuj\n",
      "22   kbqwtcvzhymhpoelrnaxydifyb\n",
      "23   kbqctcvzgumhpoalrnaxydifuj\n",
      "24   kuqktcvzgsmhpoelrnaxydieuj\n",
      "25   kbqwtcvzgsmvpozlrnaxydifmj\n",
      "26   kbqwtcvzgsmhpojlraaxydiouj\n",
      "27   kbqwtcvzgmmhpoelknaxydizuj\n",
      "28   kbwwtcvzgsmhpoefrnaxydifij\n",
      "29   kbqwucvzgsmhpoelvnahydifuj\n",
      "..                          ...\n",
      "220  zbqwtcvzgsmhpoelrbaxydifui\n",
      "221  krqwtcvzbsmhpoelrjaxydifuj\n",
      "222  kbkwtcvzgsmhpoelrnaxydiacj\n",
      "223  kbqwtcvzgszhpseprnaxydifuj\n",
      "224  kbxwtcvzxsmhpoesrnaxydifuj\n",
      "225  kbqwdcvzgsmhpoelrbaxygifuj\n",
      "226  kbqwthkzgsmhhoelrnaxydifuj\n",
      "227  klqwtchzgamhpoelrnaxydifuj\n",
      "228  obqwtcvzgsvcpoelrnaxydifuj\n",
      "229  kblwtcvzgsmhpoelrnanydifuw\n",
      "230  kbqwtrvzgsmhpoelynaxydifug\n",
      "231  kbqwtcvzgsmhcoelmnaxydkfuj\n",
      "232  kbqwtcvzgsmhpotlqoaxydifuj\n",
      "233  kaqatcvzgsmhpoelrnaxyiifuj\n",
      "234  kbqttcvwgsmhpoelrnaxydifgj\n",
      "235  kpqwtcvzgsmhpwelynaxydifuj\n",
      "236  kbqwucvzgsmhpyelrnaxyxifuj\n",
      "237  kbqwucvzgsmhprelrnaxyfifuj\n",
      "238  kbqwthvzgsmhphelrnaxylifuj\n",
      "239  kbqwtcvzosmhdoelrnaxwdifuj\n",
      "240  kbqwtxvsgsphpoelrnaxydifuj\n",
      "241  koqwtcvfghmhpoelrnaxydifuj\n",
      "242  kbtwicvzpsmhpoelrnaxydifuj\n",
      "243  kbawtcvzgsmhmoelrnaxyiifuj\n",
      "244  kbqwtcvzgslhpbelrnaxydifuk\n",
      "245  kbqttcvzgsmypoelrnaxydifua\n",
      "246  kbqwtcvrgqmhpnelrnaxydifuj\n",
      "247  kbqwtcvzghmhpoekpnaxydifuj\n",
      "248  kbqwtcvzgsmupoelrnaxidifui\n",
      "249  kbqwtcvzgsmhpbelrnaxrdifux\n",
      "\n",
      "[250 rows x 1 columns]\n"
     ]
    }
   ],
   "source": [
    "import pandas as pd\n",
    "df = pd.read_table(\"input.txt\", names=['boxid'])\n",
    "print(df)"
   ]
  },
  {
   "cell_type": "code",
   "execution_count": 11,
   "metadata": {},
   "outputs": [],
   "source": [
    "def has_repeat(s, num_repeats):\n",
    "    \"\"\"\n",
    "    Does the string s have at least one letter repeated num_repeats times? True is yes and False if not.\n",
    "    \n",
    "    Inputs\n",
    "    ------\n",
    "    s (str): string in question\n",
    "    num_repeats (int): number of repeats we're looking for. Needs to be greater than 1\n",
    "    \n",
    "    Returns\n",
    "    -------\n",
    "    repeat (bool): True is repeat found and False if not\n",
    "    \"\"\"\n",
    "    assert num_repeats > 1\n",
    "    uniques = set(s)\n",
    "    if len(s) - len(uniques) < num_repeats - 1:\n",
    "        return False\n",
    "    for i in uniques:\n",
    "        if s.count(i) == num_repeats:\n",
    "            return True\n",
    "    return False"
   ]
  },
  {
   "cell_type": "code",
   "execution_count": 15,
   "metadata": {},
   "outputs": [
    {
     "name": "stdout",
     "output_type": "stream",
     "text": [
      "                          boxid  repeat2  repeat3\n",
      "0    kbqwtcvzgumhpwelrnaxydpfuj     True    False\n",
      "1    kbqwtcvzgsmhpoelryaxydiqij     True    False\n",
      "2    kbqwpcvzssmhpoelgnaxydifuj     True    False\n",
      "3    kbqgtcvxgsmhpoalrnaxydifuj     True    False\n",
      "4    kbqwtcvygsmhpoelrnaxydiaut     True    False\n",
      "5    kbqwtcvjgsmhpoelrnawydzfuj     True    False\n",
      "6    kbqftcvzgsmhpoeprnaxydifus     True    False\n",
      "7    rbqwtcgzgsxhpoelrnaxydifuj     True    False\n",
      "8    kbqwtlvzgvmhpoelrnaxkdifuj     True    False\n",
      "9    kbqwtcvzgsmhpolqrnaxydifub     True    False\n",
      "10   kbqbtcqzgsmhposlrnaxydifuj     True    False\n",
      "11   kbqwmcvzgswhpoelxnaxydifuj     True    False\n",
      "12   kbqwtyvzgsmhkoelrnsxydifuj     True    False\n",
      "13   khqwtcvzgsmhqoelinaxydifuj     True    False\n",
      "14   koqwtcvzcsmhpoelrnaxydizuj     True    False\n",
      "15   kbqwtcvzlsmhpoezrnaxydmfuj     True    False\n",
      "16   kbqwtcvzdsmhpoelrjaxydifij     True    False\n",
      "17   kbqwtcvzgsmhpoelrncxyjifuk     True    False\n",
      "18   kbtwtcvzgsmhpoelonaxydiwuj     True    False\n",
      "19   kbqwfcrzgsmhpoelrnaeydifuj     True    False\n",
      "20   kbqutcvkgsmhpoelrnfxydifuj     True    False\n",
      "21   kbqwtcvzgsmvvoelrnaxydihuj    False     True\n",
      "22   kbqwtcvzhymhpoelrnaxydifyb     True     True\n",
      "23   kbqctcvzgumhpoalrnaxydifuj     True    False\n",
      "24   kuqktcvzgsmhpoelrnaxydieuj     True    False\n",
      "25   kbqwtcvzgsmvpozlrnaxydifmj     True    False\n",
      "26   kbqwtcvzgsmhpojlraaxydiouj     True    False\n",
      "27   kbqwtcvzgmmhpoelknaxydizuj     True    False\n",
      "28   kbwwtcvzgsmhpoefrnaxydifij     True    False\n",
      "29   kbqwucvzgsmhpoelvnahydifuj     True    False\n",
      "..                          ...      ...      ...\n",
      "220  zbqwtcvzgsmhpoelrbaxydifui     True    False\n",
      "221  krqwtcvzbsmhpoelrjaxydifuj     True    False\n",
      "222  kbkwtcvzgsmhpoelrnaxydiacj     True    False\n",
      "223  kbqwtcvzgszhpseprnaxydifuj     True    False\n",
      "224  kbxwtcvzxsmhpoesrnaxydifuj     True     True\n",
      "225  kbqwdcvzgsmhpoelrbaxygifuj     True    False\n",
      "226  kbqwthkzgsmhhoelrnaxydifuj     True     True\n",
      "227  klqwtchzgamhpoelrnaxydifuj     True    False\n",
      "228  obqwtcvzgsvcpoelrnaxydifuj     True    False\n",
      "229  kblwtcvzgsmhpoelrnanydifuw     True    False\n",
      "230  kbqwtrvzgsmhpoelynaxydifug     True    False\n",
      "231  kbqwtcvzgsmhcoelmnaxydkfuj     True    False\n",
      "232  kbqwtcvzgsmhpotlqoaxydifuj     True    False\n",
      "233  kaqatcvzgsmhpoelrnaxyiifuj     True     True\n",
      "234  kbqttcvwgsmhpoelrnaxydifgj     True    False\n",
      "235  kpqwtcvzgsmhpwelynaxydifuj     True    False\n",
      "236  kbqwucvzgsmhpyelrnaxyxifuj     True    False\n",
      "237  kbqwucvzgsmhprelrnaxyfifuj     True    False\n",
      "238  kbqwthvzgsmhphelrnaxylifuj     True     True\n",
      "239  kbqwtcvzosmhdoelrnaxwdifuj     True    False\n",
      "240  kbqwtxvsgsphpoelrnaxydifuj     True    False\n",
      "241  koqwtcvfghmhpoelrnaxydifuj     True    False\n",
      "242  kbtwicvzpsmhpoelrnaxydifuj     True    False\n",
      "243  kbawtcvzgsmhmoelrnaxyiifuj     True    False\n",
      "244  kbqwtcvzgslhpbelrnaxydifuk     True    False\n",
      "245  kbqttcvzgsmypoelrnaxydifua     True    False\n",
      "246  kbqwtcvrgqmhpnelrnaxydifuj     True    False\n",
      "247  kbqwtcvzghmhpoekpnaxydifuj     True    False\n",
      "248  kbqwtcvzgsmupoelrnaxidifui     True     True\n",
      "249  kbqwtcvzgsmhpbelrnaxrdifux     True    False\n",
      "\n",
      "[250 rows x 3 columns]\n"
     ]
    },
    {
     "data": {
      "text/plain": [
       "246"
      ]
     },
     "execution_count": 15,
     "metadata": {},
     "output_type": "execute_result"
    }
   ],
   "source": [
    "df['repeat2'] = pd.Series([has_repeat(i, 2) for i in df['boxid']], index=df.index)\n",
    "df['repeat3'] = pd.Series([has_repeat(i, 3) for i in df['boxid']], index=df.index)\n",
    "print(df)"
   ]
  },
  {
   "cell_type": "code",
   "execution_count": 17,
   "metadata": {},
   "outputs": [
    {
     "name": "stdout",
     "output_type": "stream",
     "text": [
      "Puzzle 1 Answer: 7134\n"
     ]
    }
   ],
   "source": [
    "print(\"Puzzle 1 Answer:\", df['repeat2'].sum() * df['repeat3'].sum())"
   ]
  },
  {
   "cell_type": "markdown",
   "metadata": {},
   "source": [
    "## Puzzle 2\n",
    "This is really the hamming distance"
   ]
  },
  {
   "cell_type": "code",
   "execution_count": 25,
   "metadata": {},
   "outputs": [],
   "source": [
    "def hamming_distance(s1, s2):\n",
    "    \"\"\"\n",
    "    Find the hamming (edit distance) between two strings of equal length.\n",
    "    \n",
    "    Inputs\n",
    "    ------\n",
    "    s1 (str): First string\n",
    "    s2 (str): Second string\n",
    "    \n",
    "    Returns\n",
    "    -------\n",
    "    Hamming_distance (int): Number of entries where the two strings differ.\n",
    "    \n",
    "    \"\"\"\n",
    "    assert len(s1) == len(s2)\n",
    "    output = 0\n",
    "    for i in range(len(s1)):\n",
    "        if s1[i] != s2[i]:\n",
    "            output += 1\n",
    "    return output"
   ]
  },
  {
   "cell_type": "code",
   "execution_count": 26,
   "metadata": {},
   "outputs": [
    {
     "name": "stdout",
     "output_type": "stream",
     "text": [
      "Found them!\n",
      "kbqwtcvzhymhpoelrnaxydifyb\n",
      "kbqwtcvzhsmhpoelrnaxydifyb\n"
     ]
    }
   ],
   "source": [
    "from itertools import permutations\n",
    "for i in permutations(df['boxid'], r=2):\n",
    "    if hamming_distance(i[0], i[1]) == 1:\n",
    "        print(\"Found them!\")\n",
    "        print(i[0])\n",
    "        print(i[1])\n",
    "        break"
   ]
  },
  {
   "cell_type": "code",
   "execution_count": 30,
   "metadata": {},
   "outputs": [
    {
     "name": "stdout",
     "output_type": "stream",
     "text": [
      "Puzzle 2 answer: kbqwtcvzhmhpoelrnaxydifyb\n"
     ]
    }
   ],
   "source": [
    "box1 = 'kbqwtcvzhymhpoelrnaxydifyb'\n",
    "box2 = 'kbqwtcvzhsmhpoelrnaxydifyb'\n",
    "out = ''\n",
    "for i in range(len(box1)):\n",
    "    if box1[i] == box2[i]:\n",
    "        out += box1[i]\n",
    "print(\"Puzzle 2 answer:\", out)"
   ]
  },
  {
   "cell_type": "code",
   "execution_count": null,
   "metadata": {},
   "outputs": [],
   "source": []
  }
 ],
 "metadata": {
  "kernelspec": {
   "display_name": "Python 3",
   "language": "python",
   "name": "python3"
  },
  "language_info": {
   "codemirror_mode": {
    "name": "ipython",
    "version": 3
   },
   "file_extension": ".py",
   "mimetype": "text/x-python",
   "name": "python",
   "nbconvert_exporter": "python",
   "pygments_lexer": "ipython3",
   "version": "3.5.6"
  }
 },
 "nbformat": 4,
 "nbformat_minor": 2
}
