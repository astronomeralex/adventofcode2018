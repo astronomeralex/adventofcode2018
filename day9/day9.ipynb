{
 "cells": [
  {
   "cell_type": "code",
   "execution_count": 5,
   "metadata": {},
   "outputs": [],
   "source": [
    "test_players, test_max = 9, 25\n",
    "players, marble_max = 424, 71144"
   ]
  },
  {
   "cell_type": "code",
   "execution_count": 3,
   "metadata": {},
   "outputs": [],
   "source": [
    "#from https://www.reddit.com/r/adventofcode/comments/a4i97s/2018_day_9_solutions/\n",
    "from collections import deque, defaultdict\n",
    "\n",
    "def play_game(max_players, last_marble):\n",
    "    scores = defaultdict(int)\n",
    "    circle = deque([0])\n",
    "\n",
    "    for marble in range(1, last_marble + 1):\n",
    "        if marble % 23 == 0:\n",
    "            circle.rotate(7)\n",
    "            scores[marble % max_players] += marble + circle.pop()\n",
    "            circle.rotate(-1)\n",
    "        else:\n",
    "            circle.rotate(-1)\n",
    "            circle.append(marble)\n",
    "\n",
    "    return max(scores.values()) if scores else 0"
   ]
  },
  {
   "cell_type": "code",
   "execution_count": 4,
   "metadata": {},
   "outputs": [],
   "source": [
    "assert play_game(test_players, test_max) == 32"
   ]
  },
  {
   "cell_type": "code",
   "execution_count": 6,
   "metadata": {},
   "outputs": [
    {
     "name": "stdout",
     "output_type": "stream",
     "text": [
      "Puzzle 1 Answer is 405143\n"
     ]
    }
   ],
   "source": [
    "print(\"Puzzle 1 Answer is\", play_game(players, marble_max))"
   ]
  },
  {
   "cell_type": "code",
   "execution_count": 8,
   "metadata": {},
   "outputs": [
    {
     "name": "stdout",
     "output_type": "stream",
     "text": [
      "Puzzle 2 Answer is 3411514667\n"
     ]
    }
   ],
   "source": [
    "print(\"Puzzle 2 Answer is\", play_game(players, marble_max*100))"
   ]
  },
  {
   "cell_type": "code",
   "execution_count": null,
   "metadata": {},
   "outputs": [],
   "source": []
  }
 ],
 "metadata": {
  "kernelspec": {
   "display_name": "Python 3",
   "language": "python",
   "name": "python3"
  },
  "language_info": {
   "codemirror_mode": {
    "name": "ipython",
    "version": 3
   },
   "file_extension": ".py",
   "mimetype": "text/x-python",
   "name": "python",
   "nbconvert_exporter": "python",
   "pygments_lexer": "ipython3",
   "version": "3.5.6"
  }
 },
 "nbformat": 4,
 "nbformat_minor": 2
}
