{
 "cells": [
  {
   "cell_type": "markdown",
   "metadata": {},
   "source": [
    "# Day 6\n",
    "## Puzzle 1"
   ]
  },
  {
   "cell_type": "code",
   "execution_count": 18,
   "metadata": {},
   "outputs": [],
   "source": [
    "import pandas as pd\n",
    "import numpy as np\n",
    "from collections import defaultdict\n",
    "from itertools import product"
   ]
  },
  {
   "cell_type": "code",
   "execution_count": 5,
   "metadata": {},
   "outputs": [
    {
     "name": "stdout",
     "output_type": "stream",
     "text": [
      "[[275 276]\n",
      " [176 108]\n",
      " [270 134]\n",
      " [192 224]\n",
      " [252 104]\n",
      " [240 271]\n",
      " [144 220]\n",
      " [341 303]\n",
      " [344 166]\n",
      " [142 347]]\n"
     ]
    }
   ],
   "source": [
    "coords = np.loadtxt(\"input.txt\", delimiter=',', dtype=int)\n",
    "print(coords[:10])"
   ]
  },
  {
   "cell_type": "code",
   "execution_count": 33,
   "metadata": {},
   "outputs": [],
   "source": [
    "def highest_finite_area(coords):\n",
    "    \"\"\"Find area of the largest finite area in voronoi diagram with L1 distance metric.\"\"\"\n",
    "    minx = np.min(coords[:,0]) - 1\n",
    "    miny = np.min(coords[:,1]) - 1\n",
    "    maxx = np.max(coords[:,0]) + 1\n",
    "    maxy = np.max(coords[:,1]) + 1\n",
    "    xs = (minx, maxx)\n",
    "    ys = (miny, maxy)\n",
    "    ddict = manhattan_distance_area(coords, xs, ys)\n",
    "    print(ddict)\n",
    "    xs2 = (minx-1, maxx+1)\n",
    "    ys2 = (miny-1, maxy+1)\n",
    "    larger_ddict = manhattan_distance_area(coords, xs2, ys2)\n",
    "    print(larger_ddict)\n",
    "    outdict = {}\n",
    "    for i in ddict.keys():\n",
    "        if ddict[i] == larger_ddict[i]:\n",
    "            outdict[i] = ddict[i]\n",
    "    print(outdict)\n",
    "    return max(outdict.values())\n",
    "\n",
    "def manhattan_distance_area(coords, xs, ys):\n",
    "    \"\"\"\n",
    "    Returns dictionary with areas for each coord index\n",
    "    \n",
    "    coords is a sequence of coordinates\n",
    "    xs is a tuple with the min and max x\n",
    "    ys is a tuple with the min and max y\n",
    "    \"\"\"\n",
    "    out = defaultdict(int)\n",
    "    for i in product(range(xs[0], xs[1]), range(ys[0], ys[1])):\n",
    "        d = np.sum(np.abs(i - coords),axis=1)\n",
    "        dsorted = np.sort(d)\n",
    "        if dsorted[0] != dsorted[1]:\n",
    "            idx = np.argmin(d)\n",
    "            out[idx] += 1\n",
    "    return out"
   ]
  },
  {
   "cell_type": "code",
   "execution_count": 34,
   "metadata": {},
   "outputs": [
    {
     "name": "stdout",
     "output_type": "stream",
     "text": [
      "defaultdict(<class 'int'>, {0: 15, 1: 14, 3: 9, 4: 17, 5: 10, 2: 15})\n",
      "defaultdict(<class 'int'>, {0: 25, 1: 23, 3: 9, 4: 17, 5: 19, 2: 25})\n",
      "{3: 9, 4: 17}\n"
     ]
    }
   ],
   "source": [
    "testcoords = np.array([[1, 1],\n",
    "[1, 6],\n",
    "[8, 3],\n",
    "[3, 4],\n",
    "[5, 5],\n",
    "[8, 9]])\n",
    "assert highest_finite_area(testcoords) == 17"
   ]
  },
  {
   "cell_type": "code",
   "execution_count": 35,
   "metadata": {},
   "outputs": [
    {
     "name": "stdout",
     "output_type": "stream",
     "text": [
      "defaultdict(<class 'int'>, {33: 2710, 35: 3656, 37: 2156, 16: 1182, 19: 2326, 43: 2195, 14: 2362, 13: 3621, 23: 1888, 20: 2393, 21: 1108, 44: 400, 1: 5333, 47: 1067, 45: 3554, 15: 1120, 11: 159, 9: 372, 48: 345, 29: 3353, 6: 959, 41: 2359, 27: 191, 26: 840, 49: 2022, 28: 597, 3: 2152, 25: 2675, 10: 3151, 36: 2800, 5: 2274, 40: 1398, 4: 3442, 18: 3898, 30: 1308, 34: 3401, 31: 2454, 0: 2697, 2: 1188, 22: 638, 17: 2325, 8: 2824, 24: 1884, 32: 2026, 39: 1424, 7: 1768, 38: 1710, 46: 1409, 12: 803, 42: 809})\n",
      "defaultdict(<class 'int'>, {33: 2791, 35: 3719, 37: 2219, 16: 1247, 19: 2427, 43: 2238, 14: 2362, 13: 3621, 23: 1888, 20: 2467, 21: 1133, 44: 400, 1: 5333, 47: 1067, 45: 3554, 15: 1120, 11: 184, 9: 372, 48: 345, 29: 3427, 6: 959, 41: 2359, 27: 210, 26: 840, 49: 2022, 28: 623, 3: 2152, 25: 2675, 10: 3151, 36: 2800, 5: 2274, 40: 1398, 4: 3465, 18: 3966, 30: 1308, 34: 3401, 31: 2533, 0: 2697, 2: 1188, 22: 638, 17: 2325, 8: 2887, 24: 1921, 32: 2046, 39: 1424, 7: 1783, 38: 1808, 46: 1453, 12: 818, 42: 903})\n",
      "{14: 2362, 13: 3621, 23: 1888, 44: 400, 1: 5333, 47: 1067, 45: 3554, 15: 1120, 9: 372, 48: 345, 6: 959, 41: 2359, 26: 840, 49: 2022, 3: 2152, 25: 2675, 10: 3151, 36: 2800, 5: 2274, 40: 1398, 30: 1308, 34: 3401, 0: 2697, 2: 1188, 22: 638, 17: 2325, 39: 1424}\n",
      "Puzzle 1 Solution is: 5333\n"
     ]
    }
   ],
   "source": [
    "print(\"Puzzle 1 Solution is:\", highest_finite_area(coords))"
   ]
  },
  {
   "cell_type": "markdown",
   "metadata": {},
   "source": [
    "## Puzzle 2"
   ]
  },
  {
   "cell_type": "code",
   "execution_count": 41,
   "metadata": {},
   "outputs": [],
   "source": [
    "def puzzle2(coords, max_distance, additional_distance=500):\n",
    "    \"\"\"How big is the area where the total distance to all coords is less than max_distance?\"\"\"\n",
    "    minx = np.min(coords[:,0]) - additional_distance\n",
    "    miny = np.min(coords[:,1]) - additional_distance\n",
    "    maxx = np.max(coords[:,0]) + additional_distance\n",
    "    maxy = np.max(coords[:,1]) + additional_distance\n",
    "    xs = (minx, maxx)\n",
    "    ys = (miny, maxy)\n",
    "    area = 0\n",
    "    for i in product(range(xs[0], xs[1]), range(ys[0], ys[1])):\n",
    "        d = np.sum(np.abs(i - coords))\n",
    "        if d < max_distance:\n",
    "            area += 1\n",
    "    return area"
   ]
  },
  {
   "cell_type": "code",
   "execution_count": 43,
   "metadata": {},
   "outputs": [],
   "source": [
    "assert puzzle2(testcoords, 32, 50) == 16"
   ]
  },
  {
   "cell_type": "code",
   "execution_count": 42,
   "metadata": {},
   "outputs": [
    {
     "name": "stdout",
     "output_type": "stream",
     "text": [
      "Puzzle 2 answer is: 35334\n"
     ]
    }
   ],
   "source": [
    "while True:\n",
    "    additional_distance = 100\n",
    "    out1 = puzzle2(coords, 10000, additional_distance)\n",
    "    out2 = puzzle2(coords, 10000, additional_distance+1)\n",
    "    if out1 == out2:\n",
    "        break\n",
    "    else:\n",
    "        additional_distance += 50\n",
    "        print(\"Retrying with additional distance\", additional_distance)\n",
    "print(\"Puzzle 2 answer is:\", out1)"
   ]
  },
  {
   "cell_type": "code",
   "execution_count": null,
   "metadata": {},
   "outputs": [],
   "source": []
  }
 ],
 "metadata": {
  "kernelspec": {
   "display_name": "Python 3",
   "language": "python",
   "name": "python3"
  },
  "language_info": {
   "codemirror_mode": {
    "name": "ipython",
    "version": 3
   },
   "file_extension": ".py",
   "mimetype": "text/x-python",
   "name": "python",
   "nbconvert_exporter": "python",
   "pygments_lexer": "ipython3",
   "version": "3.6.6"
  }
 },
 "nbformat": 4,
 "nbformat_minor": 2
}
