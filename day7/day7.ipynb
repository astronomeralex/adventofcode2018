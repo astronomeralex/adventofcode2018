{
 "cells": [
  {
   "cell_type": "markdown",
   "metadata": {},
   "source": [
    "# Day 7\n",
    "## Puzzle 1"
   ]
  },
  {
   "cell_type": "code",
   "execution_count": 14,
   "metadata": {},
   "outputs": [],
   "source": [
    "import pandas as pd\n",
    "import numpy as np\n",
    "from collections import defaultdict\n",
    "import string"
   ]
  },
  {
   "cell_type": "code",
   "execution_count": 15,
   "metadata": {},
   "outputs": [
    {
     "name": "stdout",
     "output_type": "stream",
     "text": [
      "                                                raw\n",
      "0  Step U must be finished before step A can begin.\n",
      "1  Step F must be finished before step Z can begin.\n",
      "2  Step B must be finished before step J can begin.\n",
      "3  Step O must be finished before step R can begin.\n",
      "4  Step H must be finished before step S can begin.\n",
      "5  Step T must be finished before step R can begin.\n",
      "6  Step L must be finished before step W can begin.\n",
      "7  Step M must be finished before step I can begin.\n",
      "8  Step Q must be finished before step K can begin.\n",
      "9  Step Z must be finished before step V can begin.\n"
     ]
    }
   ],
   "source": [
    "df = pd.read_table(\"input.txt\", names=['raw'])\n",
    "test_df = pd.read_table(\"test_input.txt\", names=['raw'])\n",
    "print(df[:10])"
   ]
  },
  {
   "cell_type": "code",
   "execution_count": 16,
   "metadata": {},
   "outputs": [],
   "source": [
    "def prep_input(df):\n",
    "    relies_on = defaultdict(list)\n",
    "    allsteps = []\n",
    "    for i in df['raw']:\n",
    "        s = i.split()\n",
    "        before = s[1]\n",
    "        after = s[7]\n",
    "        relies_on[after].append(before)\n",
    "        allsteps.append(before)\n",
    "        allsteps.append(after)\n",
    "    allsteps = list(set(allsteps))\n",
    "    allsteps.sort()\n",
    "    print(relies_on)\n",
    "    print(allsteps)\n",
    "    return relies_on, allsteps"
   ]
  },
  {
   "cell_type": "code",
   "execution_count": 17,
   "metadata": {},
   "outputs": [],
   "source": [
    "def step_order(relies_on, allsteps):\n",
    "    out = ''\n",
    "    while len(out) < len(allsteps):\n",
    "        #print(out)\n",
    "        for i in allsteps:\n",
    "            if i in out:\n",
    "                continue\n",
    "            if all([j in out for j in relies_on[i]]):\n",
    "                out = out + i\n",
    "                break\n",
    "    return out"
   ]
  },
  {
   "cell_type": "code",
   "execution_count": 18,
   "metadata": {},
   "outputs": [
    {
     "name": "stdout",
     "output_type": "stream",
     "text": [
      "defaultdict(<class 'list'>, {'A': ['C'], 'F': ['C'], 'B': ['A'], 'D': ['A'], 'E': ['B', 'D', 'F']})\n",
      "['A', 'B', 'C', 'D', 'E', 'F']\n"
     ]
    }
   ],
   "source": [
    "test_relies_on, test_allsteps = prep_input(test_df)"
   ]
  },
  {
   "cell_type": "code",
   "execution_count": 19,
   "metadata": {},
   "outputs": [],
   "source": [
    "assert step_order(test_relies_on, test_allsteps) == 'CABDFE'"
   ]
  },
  {
   "cell_type": "code",
   "execution_count": 20,
   "metadata": {},
   "outputs": [
    {
     "name": "stdout",
     "output_type": "stream",
     "text": [
      "defaultdict(<class 'list'>, {'A': ['U', 'I', 'H', 'R', 'T', 'X', 'N', 'W', 'K'], 'Z': ['F', 'M'], 'J': ['B', 'X', 'A', 'F', 'H', 'W', 'C', 'R', 'V'], 'R': ['O', 'T', 'V', 'P'], 'S': ['H', 'K', 'X', 'V', 'W'], 'W': ['L', 'B'], 'I': ['M', 'W', 'B', 'F'], 'K': ['Q', 'F', 'C'], 'V': ['Z', 'P', 'U', 'C'], 'E': ['C', 'R', 'N', 'J', 'Y', 'X', 'V', 'M', 'F', 'I', 'D'], 'Y': ['I', 'A', 'V', 'J', 'F', 'H', 'B', 'R', 'M', 'W'], 'X': ['V', 'F', 'R', 'L'], 'G': ['S', 'D', 'E', 'N', 'Y', 'T', 'R', 'A', 'Z', 'X', 'O'], 'N': ['K', 'Q', 'W', 'H', 'P'], 'L': ['U', 'O', 'T'], 'Q': ['F'], 'C': ['L', 'B', 'M', 'H'], 'D': ['R', 'J', 'W', 'N', 'V'], 'M': ['B'], 'F': ['U'], 'O': ['B'], 'P': ['F', 'L']})\n",
      "['A', 'B', 'C', 'D', 'E', 'F', 'G', 'H', 'I', 'J', 'K', 'L', 'M', 'N', 'O', 'P', 'Q', 'R', 'S', 'T', 'U', 'V', 'W', 'X', 'Y', 'Z']\n",
      "Puzzle 1 Solution is, BHMOTUFLCPQKWINZVRXAJDSYEG\n"
     ]
    }
   ],
   "source": [
    "relies_on, allsteps = prep_input(df)\n",
    "print('Puzzle 1 Solution is,', step_order(relies_on, allsteps))"
   ]
  },
  {
   "cell_type": "code",
   "execution_count": 21,
   "metadata": {},
   "outputs": [],
   "source": [
    "test_step_length = {s: i+1 for i, s in enumerate(string.ascii_uppercase)}\n",
    "step_length = {s: i+60+1 for i, s in enumerate(string.ascii_uppercase)}"
   ]
  },
  {
   "cell_type": "code",
   "execution_count": 37,
   "metadata": {},
   "outputs": [],
   "source": [
    "def available_steps(relies_on, in_progress, done):\n",
    "    steps_available = []\n",
    "    for i in relies_on:\n",
    "        available = all(j in done for j in relies_on[i])\n",
    "        if available and i not in in_progress and i not in done:\n",
    "            steps_available.append(i)\n",
    "    steps_available.sort()\n",
    "    return steps_available\n",
    "\n",
    "def helpful_elves(relies_on, allsteps, step_length, num_workers):\n",
    "    out = ''\n",
    "    timer = 0\n",
    "    in_progress = {}\n",
    "    while len(out) <  len(allsteps):\n",
    "        available = available_steps(relies_on, in_progress, out)\n",
    "        #print(available, out)\n",
    "        for i in available:\n",
    "            if len(in_progress) == num_workers:\n",
    "                break\n",
    "            in_progress[i] = step_length[i]\n",
    "        #print(timer, in_progress)\n",
    "        # tick the clock\n",
    "        timer += 1\n",
    "        for i in in_progress.keys():\n",
    "            in_progress[i] -= 1\n",
    "            if in_progress[i] == 0:\n",
    "                out = out + i\n",
    "        for i in out:\n",
    "            if i in in_progress:\n",
    "                del in_progress[i]\n",
    "    return timer"
   ]
  },
  {
   "cell_type": "code",
   "execution_count": 38,
   "metadata": {
    "scrolled": true
   },
   "outputs": [],
   "source": [
    "assert helpful_elves(test_relies_on, test_allsteps, test_step_length, 2) == 15"
   ]
  },
  {
   "cell_type": "code",
   "execution_count": 39,
   "metadata": {},
   "outputs": [
    {
     "name": "stdout",
     "output_type": "stream",
     "text": [
      "Puzzle 2 Answer is 877\n"
     ]
    }
   ],
   "source": [
    "print(\"Puzzle 2 Answer is\", helpful_elves(relies_on, allsteps, step_length, 5))"
   ]
  },
  {
   "cell_type": "code",
   "execution_count": null,
   "metadata": {},
   "outputs": [],
   "source": []
  }
 ],
 "metadata": {
  "kernelspec": {
   "display_name": "Python 3",
   "language": "python",
   "name": "python3"
  },
  "language_info": {
   "codemirror_mode": {
    "name": "ipython",
    "version": 3
   },
   "file_extension": ".py",
   "mimetype": "text/x-python",
   "name": "python",
   "nbconvert_exporter": "python",
   "pygments_lexer": "ipython3",
   "version": "3.6.6"
  }
 },
 "nbformat": 4,
 "nbformat_minor": 2
}
