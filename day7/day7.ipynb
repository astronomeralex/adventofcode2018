{
 "cells": [
  {
   "cell_type": "markdown",
   "metadata": {},
   "source": [
    "# Day 7\n",
    "## Puzzle 1"
   ]
  },
  {
   "cell_type": "code",
   "execution_count": 5,
   "metadata": {},
   "outputs": [],
   "source": [
    "import pandas as pd\n",
    "import numpy as np\n",
    "from collections import defaultdict"
   ]
  },
  {
   "cell_type": "code",
   "execution_count": 17,
   "metadata": {},
   "outputs": [
    {
     "name": "stdout",
     "output_type": "stream",
     "text": [
      "                                                raw\n",
      "0  Step U must be finished before step A can begin.\n",
      "1  Step F must be finished before step Z can begin.\n",
      "2  Step B must be finished before step J can begin.\n",
      "3  Step O must be finished before step R can begin.\n",
      "4  Step H must be finished before step S can begin.\n",
      "5  Step T must be finished before step R can begin.\n",
      "6  Step L must be finished before step W can begin.\n",
      "7  Step M must be finished before step I can begin.\n",
      "8  Step Q must be finished before step K can begin.\n",
      "9  Step Z must be finished before step V can begin.\n"
     ]
    }
   ],
   "source": [
    "df = pd.read_table(\"input.txt\", names=['raw'])\n",
    "test_df = pd.read_table(\"test_input.txt\", names=['raw'])\n",
    "print(df[:10])"
   ]
  },
  {
   "cell_type": "code",
   "execution_count": 12,
   "metadata": {},
   "outputs": [],
   "source": [
    "def prep_input(df):\n",
    "    relies_on = defaultdict(list)\n",
    "    allsteps = []\n",
    "    for i in df['raw']:\n",
    "        s = i.split()\n",
    "        before = s[1]\n",
    "        after = s[7]\n",
    "        relies_on[after].append(before)\n",
    "        allsteps.append(before)\n",
    "        allsteps.append(after)\n",
    "    allsteps = list(set(allsteps))\n",
    "    allsteps.sort()\n",
    "    print(relies_on)\n",
    "    print(allsteps)\n",
    "    return relies_on, allsteps"
   ]
  },
  {
   "cell_type": "code",
   "execution_count": 13,
   "metadata": {},
   "outputs": [],
   "source": [
    "def step_order(relies_on, allsteps):\n",
    "    out = ''\n",
    "    while len(out) < len(allsteps):\n",
    "        #print(out)\n",
    "        for i in allsteps:\n",
    "            if i in out:\n",
    "                continue\n",
    "            if all([j in out for j in relies_on[i]]):\n",
    "                out = out + i\n",
    "                break\n",
    "    return out"
   ]
  },
  {
   "cell_type": "code",
   "execution_count": 18,
   "metadata": {},
   "outputs": [
    {
     "name": "stdout",
     "output_type": "stream",
     "text": [
      "defaultdict(<class 'list'>, {'D': ['A'], 'E': ['B', 'D', 'F'], 'F': ['C'], 'A': ['C'], 'B': ['A']})\n",
      "['A', 'B', 'C', 'D', 'E', 'F']\n"
     ]
    }
   ],
   "source": [
    "test_relies_on, test_allsteps = prep_input(test_df)"
   ]
  },
  {
   "cell_type": "code",
   "execution_count": 19,
   "metadata": {},
   "outputs": [
    {
     "name": "stdout",
     "output_type": "stream",
     "text": [
      "\n",
      "C\n",
      "CA\n",
      "CAB\n",
      "CABD\n",
      "CABDF\n"
     ]
    }
   ],
   "source": [
    "assert step_order(test_relies_on, test_allsteps) == 'CABDFE'"
   ]
  },
  {
   "cell_type": "code",
   "execution_count": 21,
   "metadata": {},
   "outputs": [
    {
     "name": "stdout",
     "output_type": "stream",
     "text": [
      "defaultdict(<class 'list'>, {'P': ['F', 'L'], 'R': ['O', 'T', 'V', 'P'], 'E': ['C', 'R', 'N', 'J', 'Y', 'X', 'V', 'M', 'F', 'I', 'D'], 'C': ['L', 'B', 'M', 'H'], 'A': ['U', 'I', 'H', 'R', 'T', 'X', 'N', 'W', 'K'], 'Y': ['I', 'A', 'V', 'J', 'F', 'H', 'B', 'R', 'M', 'W'], 'O': ['B'], 'I': ['M', 'W', 'B', 'F'], 'G': ['S', 'D', 'E', 'N', 'Y', 'T', 'R', 'A', 'Z', 'X', 'O'], 'M': ['B'], 'W': ['L', 'B'], 'L': ['U', 'O', 'T'], 'F': ['U'], 'D': ['R', 'J', 'W', 'N', 'V'], 'S': ['H', 'K', 'X', 'V', 'W'], 'K': ['Q', 'F', 'C'], 'Q': ['F'], 'Z': ['F', 'M'], 'N': ['K', 'Q', 'W', 'H', 'P'], 'J': ['B', 'X', 'A', 'F', 'H', 'W', 'C', 'R', 'V'], 'X': ['V', 'F', 'R', 'L'], 'V': ['Z', 'P', 'U', 'C']})\n",
      "['A', 'B', 'C', 'D', 'E', 'F', 'G', 'H', 'I', 'J', 'K', 'L', 'M', 'N', 'O', 'P', 'Q', 'R', 'S', 'T', 'U', 'V', 'W', 'X', 'Y', 'Z']\n",
      "\n",
      "B\n",
      "BH\n",
      "BHM\n",
      "BHMO\n",
      "BHMOT\n",
      "BHMOTU\n",
      "BHMOTUF\n",
      "BHMOTUFL\n",
      "BHMOTUFLC\n",
      "BHMOTUFLCP\n",
      "BHMOTUFLCPQ\n",
      "BHMOTUFLCPQK\n",
      "BHMOTUFLCPQKW\n",
      "BHMOTUFLCPQKWI\n",
      "BHMOTUFLCPQKWIN\n",
      "BHMOTUFLCPQKWINZ\n",
      "BHMOTUFLCPQKWINZV\n",
      "BHMOTUFLCPQKWINZVR\n",
      "BHMOTUFLCPQKWINZVRX\n",
      "BHMOTUFLCPQKWINZVRXA\n",
      "BHMOTUFLCPQKWINZVRXAJ\n",
      "BHMOTUFLCPQKWINZVRXAJD\n",
      "BHMOTUFLCPQKWINZVRXAJDS\n",
      "BHMOTUFLCPQKWINZVRXAJDSY\n",
      "BHMOTUFLCPQKWINZVRXAJDSYE\n",
      "Puzzle 1 Solution is, BHMOTUFLCPQKWINZVRXAJDSYEG\n"
     ]
    }
   ],
   "source": [
    "relies_on, allsteps = prep_input(df)\n",
    "print('Puzzle 1 Solution is,', step_order(relies_on, allsteps))"
   ]
  },
  {
   "cell_type": "code",
   "execution_count": null,
   "metadata": {},
   "outputs": [],
   "source": []
  }
 ],
 "metadata": {
  "kernelspec": {
   "display_name": "Python 3",
   "language": "python",
   "name": "python3"
  },
  "language_info": {
   "codemirror_mode": {
    "name": "ipython",
    "version": 3
   },
   "file_extension": ".py",
   "mimetype": "text/x-python",
   "name": "python",
   "nbconvert_exporter": "python",
   "pygments_lexer": "ipython3",
   "version": "3.5.6"
  }
 },
 "nbformat": 4,
 "nbformat_minor": 2
}
