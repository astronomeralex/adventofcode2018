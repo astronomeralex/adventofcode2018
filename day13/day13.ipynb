{
 "cells": [
  {
   "cell_type": "markdown",
   "metadata": {},
   "source": [
    "# Day 13\n",
    "## Puzzle 1"
   ]
  },
  {
   "cell_type": "code",
   "execution_count": 1,
   "metadata": {},
   "outputs": [],
   "source": [
    "from collections import deque"
   ]
  },
  {
   "cell_type": "code",
   "execution_count": 36,
   "metadata": {},
   "outputs": [],
   "source": [
    "def read_map(filename):\n",
    "    \"\"\"Return map\"\"\"\n",
    "    with open(filename) as f:\n",
    "        track = [i.replace('\\n', '') for i in f.readlines()]\n",
    "    return track\n",
    "\n",
    "class Cart(object):\n",
    "    \"\"\"Cart object\"\"\"\n",
    "    def __init__(self, x, y, symbol):\n",
    "        self.x = x\n",
    "        self.y = y\n",
    "        self.initial_symbol = symbol\n",
    "        self.angle = '>v<^'.index(symbol) * 90\n",
    "        self.turns = deque([90, 0, -90])\n",
    "        self.movement = {0: (1,0), 90: (0,-1), 180: (-1,0), 270: (0,1)}\n",
    "        self.turn_dict = {}\n",
    "        backslash_dict = {90: 90, 270: 90, 0: -90, 180: -90}\n",
    "        forwardslash_dict = {90: -90, 270: -90, 0: 90, 180: 90}\n",
    "        self.turn_dict['\\\\'] = backslash_dict\n",
    "        self.turn_dict['/'] = forwardslash_dict\n",
    "        \n",
    "    def evolve(self, track):\n",
    "        \"\"\"Evolve one step on track\"\"\"\n",
    "        step = self.movement[self.angle]\n",
    "        newx = self.x + step[0]\n",
    "        newy = self.y + step[1]\n",
    "        assert newx >= 0\n",
    "        assert newy >= 0\n",
    "        newspace = track[newy][newx]\n",
    "        if newspace == '+':\n",
    "            addangle = self.turns[0]\n",
    "            self.turns.rotate(1)\n",
    "        elif newspace == '|':\n",
    "            assert self.angle in [90, 270]\n",
    "            addangle = 0\n",
    "        elif newspace == '-':\n",
    "            assert self.angle in [0, 180]\n",
    "            addangle = 0\n",
    "        else:\n",
    "            addangle = self.turn_dict[newspace][self.angle]\n",
    "        self.angle = (self.angle + addangle) % 360\n",
    "        self.x = newx\n",
    "        self.y = newy\n",
    "        \n",
    "    def __repr__(self):\n",
    "        return(str((self.x, self.y, self.angle)))"
   ]
  },
  {
   "cell_type": "code",
   "execution_count": 37,
   "metadata": {},
   "outputs": [
    {
     "name": "stdout",
     "output_type": "stream",
     "text": [
      "(0, 0, 0)\n",
      "(1, 0, 0)\n",
      "(2, 0, 270)\n"
     ]
    },
    {
     "ename": "IndexError",
     "evalue": "list index out of range",
     "output_type": "error",
     "traceback": [
      "\u001b[0;31m---------------------------------------------------------------------------\u001b[0m",
      "\u001b[0;31mIndexError\u001b[0m                                Traceback (most recent call last)",
      "\u001b[0;32m<ipython-input-37-d6cb0bb94fe6>\u001b[0m in \u001b[0;36m<module>\u001b[0;34m\u001b[0m\n\u001b[1;32m      5\u001b[0m \u001b[0mc\u001b[0m\u001b[0;34m.\u001b[0m\u001b[0mevolve\u001b[0m\u001b[0;34m(\u001b[0m\u001b[0;34m[\u001b[0m\u001b[0;34m'--\\\\'\u001b[0m\u001b[0;34m]\u001b[0m\u001b[0;34m)\u001b[0m\u001b[0;34m\u001b[0m\u001b[0m\n\u001b[1;32m      6\u001b[0m \u001b[0mprint\u001b[0m\u001b[0;34m(\u001b[0m\u001b[0mc\u001b[0m\u001b[0;34m)\u001b[0m\u001b[0;34m\u001b[0m\u001b[0m\n\u001b[0;32m----> 7\u001b[0;31m \u001b[0mc\u001b[0m\u001b[0;34m.\u001b[0m\u001b[0mevolve\u001b[0m\u001b[0;34m(\u001b[0m\u001b[0;34m[\u001b[0m\u001b[0;34m'--\\\\'\u001b[0m\u001b[0;34m]\u001b[0m\u001b[0;34m)\u001b[0m\u001b[0;34m\u001b[0m\u001b[0m\n\u001b[0m\u001b[1;32m      8\u001b[0m \u001b[0mprint\u001b[0m\u001b[0;34m(\u001b[0m\u001b[0mc\u001b[0m\u001b[0;34m)\u001b[0m\u001b[0;34m\u001b[0m\u001b[0m\n",
      "\u001b[0;32m<ipython-input-36-02a6bb459ba1>\u001b[0m in \u001b[0;36mevolve\u001b[0;34m(self, track)\u001b[0m\n\u001b[1;32m     27\u001b[0m         \u001b[0;32massert\u001b[0m \u001b[0mnewx\u001b[0m \u001b[0;34m>=\u001b[0m \u001b[0;36m0\u001b[0m\u001b[0;34m\u001b[0m\u001b[0m\n\u001b[1;32m     28\u001b[0m         \u001b[0;32massert\u001b[0m \u001b[0mnewy\u001b[0m \u001b[0;34m>=\u001b[0m \u001b[0;36m0\u001b[0m\u001b[0;34m\u001b[0m\u001b[0m\n\u001b[0;32m---> 29\u001b[0;31m         \u001b[0mnewspace\u001b[0m \u001b[0;34m=\u001b[0m \u001b[0mtrack\u001b[0m\u001b[0;34m[\u001b[0m\u001b[0mnewy\u001b[0m\u001b[0;34m]\u001b[0m\u001b[0;34m[\u001b[0m\u001b[0mnewx\u001b[0m\u001b[0;34m]\u001b[0m\u001b[0;34m\u001b[0m\u001b[0m\n\u001b[0m\u001b[1;32m     30\u001b[0m         \u001b[0;32mif\u001b[0m \u001b[0mnewspace\u001b[0m \u001b[0;34m==\u001b[0m \u001b[0;34m'+'\u001b[0m\u001b[0;34m:\u001b[0m\u001b[0;34m\u001b[0m\u001b[0m\n\u001b[1;32m     31\u001b[0m             \u001b[0maddangle\u001b[0m \u001b[0;34m=\u001b[0m \u001b[0mself\u001b[0m\u001b[0;34m.\u001b[0m\u001b[0mturns\u001b[0m\u001b[0;34m[\u001b[0m\u001b[0;36m0\u001b[0m\u001b[0;34m]\u001b[0m\u001b[0;34m\u001b[0m\u001b[0m\n",
      "\u001b[0;31mIndexError\u001b[0m: list index out of range"
     ]
    }
   ],
   "source": [
    "c = Cart(0,0,'>')\n",
    "print(c)\n",
    "c.evolve(['--\\\\'])\n",
    "print(c)\n",
    "c.evolve(['--\\\\'])\n",
    "print(c)\n",
    "c.evolve(['--\\\\'])\n",
    "print(c)"
   ]
  },
  {
   "cell_type": "code",
   "execution_count": 3,
   "metadata": {},
   "outputs": [],
   "source": [
    "test_track = read_map(\"test_input.txt\")"
   ]
  },
  {
   "cell_type": "code",
   "execution_count": 4,
   "metadata": {},
   "outputs": [
    {
     "data": {
      "text/plain": [
       "['/->-\\\\        ',\n",
       " '|   |  /----\\\\',\n",
       " '| /-+--+-\\\\  |',\n",
       " '| | |  | v  |',\n",
       " '\\\\-+-/  \\\\-+--/',\n",
       " '  \\\\------/   ']"
      ]
     },
     "execution_count": 4,
     "metadata": {},
     "output_type": "execute_result"
    }
   ],
   "source": [
    "test_track"
   ]
  },
  {
   "cell_type": "code",
   "execution_count": 15,
   "metadata": {},
   "outputs": [],
   "source": [
    "d = deque([1,2,3])"
   ]
  },
  {
   "cell_type": "code",
   "execution_count": 10,
   "metadata": {},
   "outputs": [
    {
     "data": {
      "text/plain": [
       "'-'"
      ]
     },
     "execution_count": 10,
     "metadata": {},
     "output_type": "execute_result"
    }
   ],
   "source": [
    "['--'][0][0]"
   ]
  },
  {
   "cell_type": "code",
   "execution_count": null,
   "metadata": {},
   "outputs": [],
   "source": []
  }
 ],
 "metadata": {
  "kernelspec": {
   "display_name": "Python 3",
   "language": "python",
   "name": "python3"
  },
  "language_info": {
   "codemirror_mode": {
    "name": "ipython",
    "version": 3
   },
   "file_extension": ".py",
   "mimetype": "text/x-python",
   "name": "python",
   "nbconvert_exporter": "python",
   "pygments_lexer": "ipython3",
   "version": "3.6.6"
  }
 },
 "nbformat": 4,
 "nbformat_minor": 2
}
