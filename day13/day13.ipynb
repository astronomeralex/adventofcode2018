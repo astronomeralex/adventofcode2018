{
 "cells": [
  {
   "cell_type": "markdown",
   "metadata": {},
   "source": [
    "# Day 13\n",
    "## Puzzle 1"
   ]
  },
  {
   "cell_type": "code",
   "execution_count": 14,
   "metadata": {},
   "outputs": [],
   "source": [
    "from collections import deque"
   ]
  },
  {
   "cell_type": "code",
   "execution_count": 20,
   "metadata": {},
   "outputs": [],
   "source": [
    "def read_map(filename):\n",
    "    \"\"\"Return map\"\"\"\n",
    "    with open(filename) as f:\n",
    "        track = [i.replace('\\n', '') for i in f.readlines()]\n",
    "    return track\n",
    "\n",
    "class Cart(object):\n",
    "    \"\"\"Cart object\"\"\"\n",
    "    def __init__(self, x, y, symbol):\n",
    "        self.x = x\n",
    "        self.y = y\n",
    "        self.initial_symbol = symbol\n",
    "        self.angle = '>v<^'.index(symbol) * 90\n",
    "        self.turns = deque([90, 0, -90])\n",
    "        self.movement = {0: (1,0), 90: (0,1), 180: (-1,0), 270: (-1,0)}\n",
    "        self.turn_dict = {}\n",
    "        backslash_dict = {90: 90, 270: 90, 0: -90}\n",
    "        forwardslash_dict = {90: -90, 270: -90, 180: 90}\n",
    "        self.turn_dict['\\\\'] = backslash_dict\n",
    "        self.turn_dict['/'] = forwardslash_dict\n",
    "        \n",
    "    def evolve(self, track):\n",
    "        \"\"\"Evolve one step on track\"\"\"\n",
    "        step = self.movement[self.angle]\n",
    "        newx = self.x + step[0]\n",
    "        newy = self.y + step[1]\n",
    "        newspace = track[newx][newy]\n",
    "        if newspace == '+':\n",
    "            addangle = self.turns[0]\n",
    "            self.turns.rotate(1)\n",
    "        elif newspace == '|':\n",
    "            assert self.angle in [90, 270]\n",
    "            addangle = 0\n",
    "        elif newspace == '-':\n",
    "            assert self.angle in [0, 180]\n",
    "            addangle = 0\n",
    "        else:\n",
    "            addangle = self.turn_dict[newspace][self.angle]\n",
    "        self.angle = (self.angle + addangle) % 360\n",
    "        self.x = newx\n",
    "        self.y = newy"
   ]
  },
  {
   "cell_type": "code",
   "execution_count": 12,
   "metadata": {},
   "outputs": [],
   "source": [
    "test_track = read_map(\"test_input.txt\")"
   ]
  },
  {
   "cell_type": "code",
   "execution_count": 13,
   "metadata": {},
   "outputs": [
    {
     "data": {
      "text/plain": [
       "['/->-\\\\        ',\n",
       " '|   |  /----\\\\',\n",
       " '| /-+--+-\\\\  |',\n",
       " '| | |  | v  |',\n",
       " '\\\\-+-/  \\\\-+--/',\n",
       " '  \\\\------/   ']"
      ]
     },
     "execution_count": 13,
     "metadata": {},
     "output_type": "execute_result"
    }
   ],
   "source": [
    "test_track"
   ]
  },
  {
   "cell_type": "code",
   "execution_count": 15,
   "metadata": {},
   "outputs": [],
   "source": [
    "d = deque([1,2,3])"
   ]
  },
  {
   "cell_type": "code",
   "execution_count": 18,
   "metadata": {},
   "outputs": [
    {
     "data": {
      "text/plain": [
       "deque([2, 3, 1])"
      ]
     },
     "execution_count": 18,
     "metadata": {},
     "output_type": "execute_result"
    }
   ],
   "source": []
  },
  {
   "cell_type": "code",
   "execution_count": null,
   "metadata": {},
   "outputs": [],
   "source": []
  }
 ],
 "metadata": {
  "kernelspec": {
   "display_name": "Python 3",
   "language": "python",
   "name": "python3"
  },
  "language_info": {
   "codemirror_mode": {
    "name": "ipython",
    "version": 3
   },
   "file_extension": ".py",
   "mimetype": "text/x-python",
   "name": "python",
   "nbconvert_exporter": "python",
   "pygments_lexer": "ipython3",
   "version": "3.6.6"
  }
 },
 "nbformat": 4,
 "nbformat_minor": 2
}
