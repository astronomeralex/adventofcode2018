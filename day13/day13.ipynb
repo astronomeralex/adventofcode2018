{
 "cells": [
  {
   "cell_type": "markdown",
   "metadata": {},
   "source": [
    "# Day 13\n",
    "## Puzzle 1"
   ]
  },
  {
   "cell_type": "code",
   "execution_count": 1,
   "metadata": {},
   "outputs": [],
   "source": [
    "from collections import deque"
   ]
  },
  {
   "cell_type": "code",
   "execution_count": 112,
   "metadata": {},
   "outputs": [],
   "source": [
    "def read_map(filename):\n",
    "    \"\"\"Return map\"\"\"\n",
    "    with open(filename) as f:\n",
    "        track = [i.replace('\\n', '') for i in f.readlines()]\n",
    "    return track\n",
    "\n",
    "class Cart(object):\n",
    "    \"\"\"Cart object\"\"\"\n",
    "    def __init__(self, x, y, symbol):\n",
    "        self.x = x\n",
    "        self.y = y\n",
    "        self.initial_symbol = symbol\n",
    "        self.angle = '>^<v'.index(symbol) * 90\n",
    "        self.turns = deque([90, 0, -90])\n",
    "        self.movement = {0: (1,0), 90: (0,-1), 180: (-1,0), 270: (0,1)}\n",
    "        self.turn_dict = {}\n",
    "        backslash_dict = {90: 90, 270: 90, 0: -90, 180: -90}\n",
    "        forwardslash_dict = {90: -90, 270: -90, 0: 90, 180: 90}\n",
    "        self.turn_dict['\\\\'] = backslash_dict\n",
    "        self.turn_dict['/'] = forwardslash_dict\n",
    "        \n",
    "    def evolve(self, track):\n",
    "        \"\"\"Evolve one step on track\"\"\"\n",
    "        step = self.movement[self.angle]\n",
    "        newx = self.x + step[0]\n",
    "        newy = self.y + step[1]\n",
    "        assert newx >= 0\n",
    "        assert newy >= 0\n",
    "        newspace = track[newy][newx]\n",
    "        if newspace == '+':\n",
    "            addangle = self.turns[0]\n",
    "            self.turns.rotate(-1)\n",
    "        elif newspace == '|':\n",
    "            assert self.angle in [90, 270]\n",
    "            addangle = 0\n",
    "        elif newspace == '-':\n",
    "            assert self.angle in [0, 180]\n",
    "            addangle = 0\n",
    "        else:\n",
    "            addangle = self.turn_dict[newspace][self.angle]\n",
    "        self.angle = (self.angle + addangle) % 360\n",
    "        self.x = newx\n",
    "        self.y = newy\n",
    "        \n",
    "    def __repr__(self):\n",
    "        return(str((self.x, self.y, self.angle)))"
   ]
  },
  {
   "cell_type": "code",
   "execution_count": 3,
   "metadata": {},
   "outputs": [
    {
     "name": "stdout",
     "output_type": "stream",
     "text": [
      "(0, 0, 0)\n",
      "(1, 0, 0)\n",
      "(2, 0, 270)\n"
     ]
    },
    {
     "ename": "IndexError",
     "evalue": "list index out of range",
     "output_type": "error",
     "traceback": [
      "\u001b[0;31m---------------------------------------------------------------------------\u001b[0m",
      "\u001b[0;31mIndexError\u001b[0m                                Traceback (most recent call last)",
      "\u001b[0;32m<ipython-input-3-d6cb0bb94fe6>\u001b[0m in \u001b[0;36m<module>\u001b[0;34m\u001b[0m\n\u001b[1;32m      5\u001b[0m \u001b[0mc\u001b[0m\u001b[0;34m.\u001b[0m\u001b[0mevolve\u001b[0m\u001b[0;34m(\u001b[0m\u001b[0;34m[\u001b[0m\u001b[0;34m'--\\\\'\u001b[0m\u001b[0;34m]\u001b[0m\u001b[0;34m)\u001b[0m\u001b[0;34m\u001b[0m\u001b[0m\n\u001b[1;32m      6\u001b[0m \u001b[0mprint\u001b[0m\u001b[0;34m(\u001b[0m\u001b[0mc\u001b[0m\u001b[0;34m)\u001b[0m\u001b[0;34m\u001b[0m\u001b[0m\n\u001b[0;32m----> 7\u001b[0;31m \u001b[0mc\u001b[0m\u001b[0;34m.\u001b[0m\u001b[0mevolve\u001b[0m\u001b[0;34m(\u001b[0m\u001b[0;34m[\u001b[0m\u001b[0;34m'--\\\\'\u001b[0m\u001b[0;34m]\u001b[0m\u001b[0;34m)\u001b[0m\u001b[0;34m\u001b[0m\u001b[0m\n\u001b[0m\u001b[1;32m      8\u001b[0m \u001b[0mprint\u001b[0m\u001b[0;34m(\u001b[0m\u001b[0mc\u001b[0m\u001b[0;34m)\u001b[0m\u001b[0;34m\u001b[0m\u001b[0m\n",
      "\u001b[0;32m<ipython-input-2-02a6bb459ba1>\u001b[0m in \u001b[0;36mevolve\u001b[0;34m(self, track)\u001b[0m\n\u001b[1;32m     27\u001b[0m         \u001b[0;32massert\u001b[0m \u001b[0mnewx\u001b[0m \u001b[0;34m>=\u001b[0m \u001b[0;36m0\u001b[0m\u001b[0;34m\u001b[0m\u001b[0m\n\u001b[1;32m     28\u001b[0m         \u001b[0;32massert\u001b[0m \u001b[0mnewy\u001b[0m \u001b[0;34m>=\u001b[0m \u001b[0;36m0\u001b[0m\u001b[0;34m\u001b[0m\u001b[0m\n\u001b[0;32m---> 29\u001b[0;31m         \u001b[0mnewspace\u001b[0m \u001b[0;34m=\u001b[0m \u001b[0mtrack\u001b[0m\u001b[0;34m[\u001b[0m\u001b[0mnewy\u001b[0m\u001b[0;34m]\u001b[0m\u001b[0;34m[\u001b[0m\u001b[0mnewx\u001b[0m\u001b[0;34m]\u001b[0m\u001b[0;34m\u001b[0m\u001b[0m\n\u001b[0m\u001b[1;32m     30\u001b[0m         \u001b[0;32mif\u001b[0m \u001b[0mnewspace\u001b[0m \u001b[0;34m==\u001b[0m \u001b[0;34m'+'\u001b[0m\u001b[0;34m:\u001b[0m\u001b[0;34m\u001b[0m\u001b[0m\n\u001b[1;32m     31\u001b[0m             \u001b[0maddangle\u001b[0m \u001b[0;34m=\u001b[0m \u001b[0mself\u001b[0m\u001b[0;34m.\u001b[0m\u001b[0mturns\u001b[0m\u001b[0;34m[\u001b[0m\u001b[0;36m0\u001b[0m\u001b[0;34m]\u001b[0m\u001b[0;34m\u001b[0m\u001b[0m\n",
      "\u001b[0;31mIndexError\u001b[0m: list index out of range"
     ]
    }
   ],
   "source": [
    "c = Cart(0,0,'>')\n",
    "print(c)\n",
    "c.evolve(['--\\\\'])\n",
    "print(c)\n",
    "c.evolve(['--\\\\'])\n",
    "print(c)\n",
    "c.evolve(['--\\\\'])\n",
    "print(c)"
   ]
  },
  {
   "cell_type": "code",
   "execution_count": 117,
   "metadata": {},
   "outputs": [],
   "source": [
    "test_track = read_map(\"test_input.txt\")\n",
    "track = read_map(\"input.txt\")"
   ]
  },
  {
   "cell_type": "code",
   "execution_count": 20,
   "metadata": {},
   "outputs": [
    {
     "data": {
      "text/plain": [
       "['/->-\\\\        ',\n",
       " '|   |  /----\\\\',\n",
       " '| /-+--+-\\\\  |',\n",
       " '| | |  | v  |',\n",
       " '\\\\-+-/  \\\\-+--/',\n",
       " '  \\\\------/   ']"
      ]
     },
     "execution_count": 20,
     "metadata": {},
     "output_type": "execute_result"
    }
   ],
   "source": [
    "test_track"
   ]
  },
  {
   "cell_type": "code",
   "execution_count": 147,
   "metadata": {},
   "outputs": [],
   "source": [
    "def track2carts(track):\n",
    "    carts = []\n",
    "    for y, line in enumerate(track):\n",
    "        for x, char in enumerate(line):\n",
    "            if char in '>v<^':\n",
    "                carts.append(Cart(x,y,char))\n",
    "    return carts\n",
    "\n",
    "def clean_track(track):\n",
    "    cleantrack = []\n",
    "    for line in track:\n",
    "        s = line.replace(\">\", '-').replace(\"<\", '-').replace(\"^\", '|').replace(\"v\", '|')\n",
    "        cleantrack.append(s)\n",
    "    return cleantrack\n",
    "\n",
    "def check_collision(carts):\n",
    "    coords = [(i.x, i.y) for i in carts]\n",
    "    collision = False\n",
    "    colcoords = (-1, -1)\n",
    "    idxs = []\n",
    "    for i, c in enumerate(coords):\n",
    "        if coords.count(c) > 1:\n",
    "            collision = True\n",
    "            colcoords = c\n",
    "            idxs = [i]\n",
    "            for k, j in enumerate(coords):\n",
    "                if j == c:\n",
    "                    idxs.append(k)\n",
    "            break\n",
    "    return collision, colcoords, list(set(idxs))"
   ]
  },
  {
   "cell_type": "code",
   "execution_count": 114,
   "metadata": {},
   "outputs": [
    {
     "name": "stdout",
     "output_type": "stream",
     "text": [
      "['/---\\\\        ', '|   |  /----\\\\', '| /-+--+-\\\\  |', '| | |  | |  |', '\\\\-+-/  \\\\-+--/', '  \\\\------/   ']\n"
     ]
    }
   ],
   "source": [
    "carts = track2carts(test_track)\n",
    "cleantrack = clean_track(test_track)\n",
    "print(cleantrack)"
   ]
  },
  {
   "cell_type": "code",
   "execution_count": 115,
   "metadata": {},
   "outputs": [
    {
     "name": "stdout",
     "output_type": "stream",
     "text": [
      "[(2, 0, 0), (9, 3, 270)]\n",
      "[(3, 0, 0), (9, 4, 0)]\n",
      "[(4, 0, 270), (10, 4, 0)]\n",
      "[(4, 1, 270), (11, 4, 0)]\n",
      "[(4, 2, 0), (12, 4, 90)]\n",
      "[(5, 2, 0), (12, 3, 90)]\n",
      "[(6, 2, 0), (12, 2, 90)]\n",
      "[(7, 2, 0), (12, 1, 180)]\n",
      "[(8, 2, 0), (11, 1, 180)]\n",
      "[(9, 2, 270), (10, 1, 180)]\n",
      "[(9, 3, 270), (9, 1, 180)]\n",
      "[(9, 4, 180), (8, 1, 180)]\n",
      "[(8, 4, 180), (7, 1, 270)]\n",
      "[(7, 4, 90), (7, 2, 270)]\n",
      "[(7, 3, 90), (7, 3, 270)]\n"
     ]
    }
   ],
   "source": [
    "print(carts)\n",
    "for i in range(14):\n",
    "    for j in carts:\n",
    "        j.evolve(cleantrack)\n",
    "    print(carts)"
   ]
  },
  {
   "cell_type": "code",
   "execution_count": 131,
   "metadata": {},
   "outputs": [
    {
     "data": {
      "text/plain": [
       "(False, (-1, -1), [])"
      ]
     },
     "execution_count": 131,
     "metadata": {},
     "output_type": "execute_result"
    }
   ],
   "source": [
    "check_collision(carts)"
   ]
  },
  {
   "cell_type": "code",
   "execution_count": 148,
   "metadata": {},
   "outputs": [
    {
     "name": "stdout",
     "output_type": "stream",
     "text": [
      "150 True (57, 104) [1, 14]\n"
     ]
    },
    {
     "ename": "Exception",
     "evalue": "",
     "output_type": "error",
     "traceback": [
      "\u001b[0;31m---------------------------------------------------------------------------\u001b[0m",
      "\u001b[0;31mException\u001b[0m                                 Traceback (most recent call last)",
      "\u001b[0;32m<ipython-input-148-a16be7f640eb>\u001b[0m in \u001b[0;36m<module>\u001b[0;34m\u001b[0m\n\u001b[1;32m      7\u001b[0m         \u001b[0;32mif\u001b[0m \u001b[0mcollision\u001b[0m\u001b[0;34m:\u001b[0m\u001b[0;34m\u001b[0m\u001b[0m\n\u001b[1;32m      8\u001b[0m             \u001b[0mprint\u001b[0m\u001b[0;34m(\u001b[0m\u001b[0mi\u001b[0m\u001b[0;34m,\u001b[0m \u001b[0mcollision\u001b[0m\u001b[0;34m,\u001b[0m \u001b[0mcoords\u001b[0m\u001b[0;34m,\u001b[0m \u001b[0midxs\u001b[0m\u001b[0;34m)\u001b[0m\u001b[0;34m\u001b[0m\u001b[0m\n\u001b[0;32m----> 9\u001b[0;31m             \u001b[0;32mraise\u001b[0m \u001b[0mException\u001b[0m\u001b[0;34m\u001b[0m\u001b[0m\n\u001b[0m",
      "\u001b[0;31mException\u001b[0m: "
     ]
    }
   ],
   "source": [
    "carts = track2carts(track)\n",
    "cleantrack = clean_track(track)\n",
    "for i in range(1000):\n",
    "    for j in carts:\n",
    "        j.evolve(cleantrack)\n",
    "        collision, coords, idxs = check_collision(carts)\n",
    "        if collision:\n",
    "            print(i, collision, coords, idxs)\n",
    "            raise Exception"
   ]
  },
  {
   "cell_type": "code",
   "execution_count": 153,
   "metadata": {},
   "outputs": [],
   "source": [
    "def evolve1(carts, track):\n",
    "    remove_idx = []\n",
    "    for i, cart in enumerate(carts):\n",
    "        if i not in remove_idx:\n",
    "            cart.evolve(track)\n",
    "            collision, coords, idxs = check_collision(carts)\n",
    "            if collision:\n",
    "                for j in idxs:\n",
    "                    if j not in remove_idx:\n",
    "                        remove_idx.append(j)\n",
    "    remove_idx.sort(reverse=True)\n",
    "    if len(remove_idx) > 0: print(remove_idx)\n",
    "    for i in remove_idx:\n",
    "        carts.pop(i)\n",
    "    return carts"
   ]
  },
  {
   "cell_type": "code",
   "execution_count": 154,
   "metadata": {},
   "outputs": [
    {
     "name": "stdout",
     "output_type": "stream",
     "text": [
      "0 17\n",
      "[14, 1]\n",
      "[5, 1]\n",
      "[9, 7]\n",
      "[5, 4]\n",
      "[8, 6]\n",
      "[5, 1]\n",
      "[3, 0]\n",
      "10000 3\n",
      "[1, 0]\n",
      "[(67, 74, 180)]\n"
     ]
    }
   ],
   "source": [
    "track = read_map(\"input.txt\")\n",
    "carts = track2carts(track)\n",
    "cleantrack = clean_track(track)\n",
    "for i in range(100000):\n",
    "    if i % 10000 == 0:\n",
    "        print(i, len(carts))\n",
    "    carts = evolve1(carts, cleantrack)\n",
    "    if len(carts) == 1:\n",
    "        print(carts)\n",
    "        break"
   ]
  },
  {
   "cell_type": "code",
   "execution_count": null,
   "metadata": {},
   "outputs": [],
   "source": []
  }
 ],
 "metadata": {
  "kernelspec": {
   "display_name": "Python 3",
   "language": "python",
   "name": "python3"
  },
  "language_info": {
   "codemirror_mode": {
    "name": "ipython",
    "version": 3
   },
   "file_extension": ".py",
   "mimetype": "text/x-python",
   "name": "python",
   "nbconvert_exporter": "python",
   "pygments_lexer": "ipython3",
   "version": "3.6.6"
  }
 },
 "nbformat": 4,
 "nbformat_minor": 2
}
