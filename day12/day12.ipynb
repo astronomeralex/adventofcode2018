{
 "cells": [
  {
   "cell_type": "markdown",
   "metadata": {},
   "source": [
    "# Day 12\n",
    "## Puzzle 1"
   ]
  },
  {
   "cell_type": "code",
   "execution_count": 1,
   "metadata": {},
   "outputs": [],
   "source": [
    "def read_input(filename):\n",
    "    \"\"\"Read input file and process.\"\"\"\n",
    "    with open(filename, 'r') as f:\n",
    "        rawlines = f.readlines()\n",
    "    lines = [i.replace('\\n', '') for i in rawlines]\n",
    "    initial_state = lines[0].split(':')[1].strip()\n",
    "    evolve_dict = {i.split('=>')[0].strip(): i.split('=>')[1].strip() for i in lines[2:]}\n",
    "    return initial_state, evolve_dict"
   ]
  },
  {
   "cell_type": "code",
   "execution_count": 2,
   "metadata": {},
   "outputs": [
    {
     "name": "stdout",
     "output_type": "stream",
     "text": [
      "#..#.#..##......###...### {'...##': '#', '..#..': '#', '.#...': '#', '.#.#.': '#', '.#.##': '#', '.##..': '#', '.####': '#', '#.#.#': '#', '#.###': '#', '##.#.': '#', '##.##': '#', '###..': '#', '###.#': '#', '####.': '#'}\n"
     ]
    }
   ],
   "source": [
    "test_initial_state, test_evolve_dict = read_input(\"test_input.txt\")\n",
    "print(test_initial_state, test_evolve_dict)"
   ]
  },
  {
   "cell_type": "code",
   "execution_count": 3,
   "metadata": {},
   "outputs": [],
   "source": [
    "def evolve(initial_state, evolve_dict, furthest_left_pot):\n",
    "    out = ''\n",
    "    furthest_left_pot -= 2\n",
    "    initial_state = '..' + initial_state + '...'\n",
    "    for i in range(len(initial_state)):\n",
    "        if i-2 < 0:\n",
    "            pre_delta = 2-i\n",
    "            pre_s = \".\"*pre_delta\n",
    "            post_delta = 0\n",
    "            post_s = ''\n",
    "        elif i + 2 > len(initial_state) - 1:\n",
    "            pre_delta = 0\n",
    "            pre_s = ''\n",
    "            post_delta = i + 2 - (len(initial_state) - 1)\n",
    "            post_s = '.'*post_delta\n",
    "        else:\n",
    "            pre_delta = 0\n",
    "            pre_s = ''\n",
    "            post_delta = 0\n",
    "            post_s = ''\n",
    "        s = pre_s + initial_state[i-2+pre_delta:i+3-post_delta] + post_s\n",
    "        #print(i)\n",
    "        #print(pre_delta)\n",
    "        #print(pre_s)\n",
    "        #print(post_delta)\n",
    "        #print(post_s)\n",
    "        #print(s)\n",
    "        assert len(s) == 5\n",
    "        try:\n",
    "            out = out + evolve_dict[s]\n",
    "        except KeyError:\n",
    "            out = out + '.'\n",
    "    first_idx = out.index(\"#\")\n",
    "    last_idx = out.rindex(\"#\") + 1\n",
    "    return out[first_idx:last_idx], furthest_left_pot + first_idx\n",
    "\n",
    "def many_generations(initial_state, evolve_dict, furthest_left_pot, generations):\n",
    "    for i in range(generations):\n",
    "        if i % 10000 == 0:\n",
    "            print(i)\n",
    "        initial_state, furthest_left_pot = evolve(initial_state, evolve_dict, furthest_left_pot)\n",
    "    return initial_state, furthest_left_pot\n",
    "\n",
    "def puzzle1_solution(state, leftmost_pot):\n",
    "    out = 0\n",
    "    for i, plant in enumerate(state):\n",
    "        if plant == '#':\n",
    "            out += i + leftmost_pot\n",
    "    return out"
   ]
  },
  {
   "cell_type": "code",
   "execution_count": 4,
   "metadata": {},
   "outputs": [
    {
     "name": "stdout",
     "output_type": "stream",
     "text": [
      "('#...#....#.....#..#..#..#', 0)\n",
      "0\n",
      "#....##....#####...#######....#.#..## -2\n"
     ]
    }
   ],
   "source": [
    "print(evolve(test_initial_state, test_evolve_dict,0))\n",
    "test_state, test_leftmost = many_generations(test_initial_state, test_evolve_dict, 0, 20)\n",
    "print(test_state, test_leftmost)"
   ]
  },
  {
   "cell_type": "code",
   "execution_count": 5,
   "metadata": {},
   "outputs": [],
   "source": [
    "assert puzzle1_solution(test_state, leftmost_pot=-2) == 325"
   ]
  },
  {
   "cell_type": "code",
   "execution_count": 6,
   "metadata": {},
   "outputs": [
    {
     "name": "stdout",
     "output_type": "stream",
     "text": [
      "0\n",
      "Puzzle 1 Solution is 1696\n"
     ]
    }
   ],
   "source": [
    "initial_state, evolve_dict = read_input(\"input.txt\")\n",
    "state, leftmost = many_generations(initial_state, evolve_dict, 0, 20)\n",
    "print(\"Puzzle 1 Solution is\", puzzle1_solution(state, leftmost))"
   ]
  },
  {
   "cell_type": "code",
   "execution_count": 7,
   "metadata": {},
   "outputs": [],
   "source": [
    "#state, leftmost = many_generations(initial_state, evolve_dict, 0, 50000000000)\n",
    "#print(\"Puzzle 2 Solution is\", puzzle1_solution(state, leftmost))"
   ]
  },
  {
   "cell_type": "markdown",
   "metadata": {},
   "source": [
    "## Puzzle 2"
   ]
  },
  {
   "cell_type": "code",
   "execution_count": 8,
   "metadata": {},
   "outputs": [],
   "source": [
    "def find_cycle(initial_state, evolve_dict, furthest_left_pot, generations=1000000):\n",
    "    outdict = {}\n",
    "    for i in range(generations):\n",
    "        if i % 10000 == 0:\n",
    "            print(i)\n",
    "        initial_state, furthest_left_pot = evolve(initial_state, evolve_dict, furthest_left_pot)\n",
    "        key = initial_state+str(furthest_left_pot)\n",
    "        if key in outdict:\n",
    "            print(\"Found cycle!\")\n",
    "            print(i)\n",
    "            print(outdict[key])\n",
    "            break\n",
    "        else:\n",
    "            outdict[key] = i"
   ]
  },
  {
   "cell_type": "code",
   "execution_count": 9,
   "metadata": {},
   "outputs": [],
   "source": [
    "#find_cycle(initial_state, evolve_dict, 0)\n",
    "# tried and failed to find a cycle"
   ]
  },
  {
   "cell_type": "code",
   "execution_count": 10,
   "metadata": {},
   "outputs": [
    {
     "name": "stdout",
     "output_type": "stream",
     "text": [
      "#..####.##..#.##.#..#.....##..#.###.#..###....##.##.#.#....#.##.####.#..##.###.#.......#............\n",
      "{'##...': '.', '##.##': '.', '.#.#.': '#', '#..#.': '.', '#.###': '#', '.###.': '.', '#.#..': '.', '##..#': '.', '.....': '.', '...#.': '.', '.#..#': '.', '####.': '#', '...##': '#', '..###': '#', '#.#.#': '#', '###.#': '#', '#...#': '#', '..#.#': '.', '.##..': '#', '.#...': '#', '.##.#': '#', '.####': '.', '.#.##': '.', '..##.': '.', '##.#.': '.', '#.##.': '.', '#..##': '.', '###..': '.', '....#': '.', '#####': '#', '#....': '.', '..#..': '#'}\n"
     ]
    }
   ],
   "source": [
    "initial_state, evolve_dict = read_input(\"input.txt\")\n",
    "print(initial_state)\n",
    "print(evolve_dict)"
   ]
  },
  {
   "cell_type": "code",
   "execution_count": 11,
   "metadata": {},
   "outputs": [],
   "source": [
    "def find_sum_growth(initial_state, evolve_dict, furthest_left_pot, generations=1000):\n",
    "    out = []\n",
    "    for i in range(generations):\n",
    "        if i % 10000 == 0:\n",
    "            print(i)\n",
    "        initial_state, furthest_left_pot = evolve(initial_state, evolve_dict, furthest_left_pot)\n",
    "        out.append(puzzle1_solution(initial_state, furthest_left_pot))\n",
    "    return out"
   ]
  },
  {
   "cell_type": "code",
   "execution_count": 12,
   "metadata": {},
   "outputs": [
    {
     "name": "stdout",
     "output_type": "stream",
     "text": [
      "0\n"
     ]
    }
   ],
   "source": [
    "out = find_sum_growth(initial_state, evolve_dict, 0)"
   ]
  },
  {
   "cell_type": "code",
   "execution_count": 15,
   "metadata": {},
   "outputs": [],
   "source": [
    "%matplotlib inline\n",
    "import matplotlib.pyplot as plt"
   ]
  },
  {
   "cell_type": "code",
   "execution_count": 17,
   "metadata": {},
   "outputs": [
    {
     "data": {
      "text/plain": [
       "[<matplotlib.lines.Line2D at 0x7fcf3810be10>]"
      ]
     },
     "execution_count": 17,
     "metadata": {},
     "output_type": "execute_result"
    },
    {
     "data": {
      "image/png": "[encoded data removed]",
      "text/plain": [
       "<Figure size 432x288 with 1 Axes>"
      ]
     },
     "metadata": {
      "needs_background": "light"
     },
     "output_type": "display_data"
    }
   ],
   "source": [
    "plt.plot(out)"
   ]
  },
  {
   "cell_type": "code",
   "execution_count": 18,
   "metadata": {},
   "outputs": [],
   "source": [
    "# holy shit, its a line! adds 36 everything once things settle down"
   ]
  },
  {
   "cell_type": "code",
   "execution_count": 26,
   "metadata": {},
   "outputs": [
    {
     "name": "stdout",
     "output_type": "stream",
     "text": [
      "Puzzle 2 Answer is: 1799999999458\n"
     ]
    }
   ],
   "source": [
    "print(\"Puzzle 2 Answer is:\", out[999] + 36*(50000000000-1000))"
   ]
  },
  {
   "cell_type": "code",
   "execution_count": 20,
   "metadata": {},
   "outputs": [
    {
     "data": {
      "text/plain": [
       "6730"
      ]
     },
     "execution_count": 20,
     "metadata": {},
     "output_type": "execute_result"
    }
   ],
   "source": []
  },
  {
   "cell_type": "code",
   "execution_count": null,
   "metadata": {},
   "outputs": [],
   "source": []
  }
 ],
 "metadata": {
  "kernelspec": {
   "display_name": "Python 3",
   "language": "python",
   "name": "python3"
  },
  "language_info": {
   "codemirror_mode": {
    "name": "ipython",
    "version": 3
   },
   "file_extension": ".py",
   "mimetype": "text/x-python",
   "name": "python",
   "nbconvert_exporter": "python",
   "pygments_lexer": "ipython3",
   "version": "3.6.6"
  }
 },
 "nbformat": 4,
 "nbformat_minor": 2
}
