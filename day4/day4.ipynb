{
 "cells": [
  {
   "cell_type": "markdown",
   "metadata": {},
   "source": [
    "# Day 4\n",
    "## Puzzle 1"
   ]
  },
  {
   "cell_type": "code",
   "execution_count": 1,
   "metadata": {},
   "outputs": [],
   "source": [
    "import pandas as pd"
   ]
  },
  {
   "cell_type": "code",
   "execution_count": 15,
   "metadata": {},
   "outputs": [
    {
     "name": "stdout",
     "output_type": "stream",
     "text": [
      "                                           raw\n",
      "0  [1518-09-16 23:57] Guard #1889 begins shift\n",
      "1  [1518-04-16 00:03] Guard #2897 begins shift\n",
      "2  [1518-04-29 23:57] Guard #1663 begins shift\n",
      "3                  [1518-05-27 00:47] wakes up\n",
      "4   [1518-04-27 23:50] Guard #661 begins shift\n",
      "5                  [1518-08-29 00:58] wakes up\n",
      "6              [1518-09-26 00:48] falls asleep\n",
      "7                  [1518-07-16 00:43] wakes up\n",
      "8              [1518-08-17 00:26] falls asleep\n",
      "9                  [1518-08-17 00:53] wakes up\n"
     ]
    }
   ],
   "source": [
    "df = pd.read_table(\"input.txt\", names=['raw'])\n",
    "print(df[:10])"
   ]
  },
  {
   "cell_type": "code",
   "execution_count": 16,
   "metadata": {},
   "outputs": [
    {
     "name": "stdout",
     "output_type": "stream",
     "text": [
      "                                             raw           timestamp\n",
      "488  [1518-04-05 00:02] Guard #2459 begins shift 2018-04-05 00:02:00\n",
      "490              [1518-04-05 00:26] falls asleep 2018-04-05 00:26:00\n",
      "788                  [1518-04-05 00:33] wakes up 2018-04-05 00:33:00\n",
      "835              [1518-04-05 00:40] falls asleep 2018-04-05 00:40:00\n",
      "853                  [1518-04-05 00:41] wakes up 2018-04-05 00:41:00\n",
      "620  [1518-04-05 23:56] Guard #2633 begins shift 2018-04-05 23:56:00\n",
      "323              [1518-04-06 00:18] falls asleep 2018-04-06 00:18:00\n",
      "51                   [1518-04-06 00:40] wakes up 2018-04-06 00:40:00\n",
      "331  [1518-04-06 23:54] Guard #3121 begins shift 2018-04-06 23:54:00\n",
      "291              [1518-04-07 00:04] falls asleep 2018-04-07 00:04:00\n"
     ]
    }
   ],
   "source": [
    "tslist = [i.replace('1518','2018').replace('[','').split(']')[0] for i in df['raw']]\n",
    "df['timestamp'] = pd.to_datetime(pd.Series(tslist))\n",
    "df.sort_values(by=['timestamp'], inplace=True)\n",
    "print(df[:10])"
   ]
  },
  {
   "cell_type": "code",
   "execution_count": 23,
   "metadata": {},
   "outputs": [
    {
     "data": {
      "text/plain": [
       "Timestamp('2018-04-16 00:03:00')"
      ]
     },
     "execution_count": 23,
     "metadata": {},
     "output_type": "execute_result"
    }
   ],
   "source": []
  },
  {
   "cell_type": "code",
   "execution_count": null,
   "metadata": {},
   "outputs": [],
   "source": []
  }
 ],
 "metadata": {
  "kernelspec": {
   "display_name": "Python 3",
   "language": "python",
   "name": "python3"
  },
  "language_info": {
   "codemirror_mode": {
    "name": "ipython",
    "version": 3
   },
   "file_extension": ".py",
   "mimetype": "text/x-python",
   "name": "python",
   "nbconvert_exporter": "python",
   "pygments_lexer": "ipython3",
   "version": "3.6.6"
  }
 },
 "nbformat": 4,
 "nbformat_minor": 2
}
