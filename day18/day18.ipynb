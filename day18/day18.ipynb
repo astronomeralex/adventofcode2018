{
 "cells": [
  {
   "cell_type": "markdown",
   "metadata": {},
   "source": [
    "# Day 18\n",
    "## Puzzle 1"
   ]
  },
  {
   "cell_type": "code",
   "execution_count": 1,
   "metadata": {},
   "outputs": [],
   "source": [
    "import numpy as np"
   ]
  },
  {
   "cell_type": "code",
   "execution_count": 2,
   "metadata": {},
   "outputs": [],
   "source": [
    "with open(\"test_input.txt\") as f:\n",
    "    tmp = [i.replace('\\n','') for i in f.readlines()]\n",
    "    test_input = []\n",
    "    for line in tmp:\n",
    "        out = []\n",
    "        for char in line:\n",
    "            out.append(char)\n",
    "        test_input.append(out)\n",
    "test_input = np.array(test_input)"
   ]
  },
  {
   "cell_type": "code",
   "execution_count": 3,
   "metadata": {},
   "outputs": [
    {
     "data": {
      "text/plain": [
       "array([['.', '#', '.', '#', '.', '.', '.', '|', '#', '.'],\n",
       "       ['.', '.', '.', '.', '.', '#', '|', '#', '#', '|'],\n",
       "       ['.', '|', '.', '.', '|', '.', '.', '.', '#', '.'],\n",
       "       ['.', '.', '|', '#', '.', '.', '.', '.', '.', '#'],\n",
       "       ['#', '.', '#', '|', '|', '|', '#', '|', '#', '|'],\n",
       "       ['.', '.', '.', '#', '.', '|', '|', '.', '.', '.'],\n",
       "       ['.', '|', '.', '.', '.', '.', '|', '.', '.', '.'],\n",
       "       ['|', '|', '.', '.', '.', '#', '|', '.', '#', '|'],\n",
       "       ['|', '.', '|', '|', '|', '|', '.', '.', '|', '.'],\n",
       "       ['.', '.', '.', '#', '.', '|', '.', '.', '|', '.']], dtype='<U1')"
      ]
     },
     "execution_count": 3,
     "metadata": {},
     "output_type": "execute_result"
    }
   ],
   "source": [
    "test_input"
   ]
  },
  {
   "cell_type": "code",
   "execution_count": 4,
   "metadata": {},
   "outputs": [],
   "source": [
    "class day18(object):\n",
    "    def __init__(self, lumber_area_arr):\n",
    "        self.original_lumber_area = lumber_area_arr\n",
    "        self.lumber_area = lumber_area_arr\n",
    "    \n",
    "    def evolve1(self):\n",
    "        new_lumber_area = np.empty_like(self.lumber_area)\n",
    "        for idx, val in np.ndenumerate(self.lumber_area):\n",
    "            adj = self.adjacent_string(idx)\n",
    "            if val == '.':\n",
    "                if adj.count('|') >= 3:\n",
    "                    newval = '|'\n",
    "                else:\n",
    "                    newval = '.'\n",
    "            elif val == '|':\n",
    "                if adj.count(\"#\") >= 3:\n",
    "                    newval = '#'\n",
    "                else:\n",
    "                    newval = '|'\n",
    "            elif val == '#':\n",
    "                if adj.count('#') >= 1 and adj.count('|') >= 1:\n",
    "                    newval = '#'\n",
    "                else:\n",
    "                    newval = '.'\n",
    "            else:\n",
    "                raise ValueError\n",
    "            new_lumber_area[idx] = newval\n",
    "        self.lumber_area = new_lumber_area\n",
    "        \n",
    "    \n",
    "    def adjacent_string(self, idx):\n",
    "        min1 = max(0,idx[0]-1)\n",
    "        max1 = min(self.lumber_area.shape[0], idx[0]+2)\n",
    "        min2 = max(0,idx[1]-1)\n",
    "        max2 = min(self.lumber_area.shape[1], idx[1]+2)\n",
    "        subarr = self.lumber_area[min1:max1, min2:max2]\n",
    "        s = \"\".join(str(i) for i in subarr.flatten())\n",
    "        s = s.replace(self.lumber_area[idx], \"\", 1)\n",
    "        return s"
   ]
  },
  {
   "cell_type": "code",
   "execution_count": 5,
   "metadata": {},
   "outputs": [],
   "source": [
    "test = day18(test_input)\n",
    "for i in range(10):\n",
    "    test.evolve1()\n",
    "outs = \"\".join(str(i) for i in test.lumber_area.flatten())\n",
    "assert outs.count('|') == 37\n",
    "assert outs.count('#') == 31"
   ]
  },
  {
   "cell_type": "code",
   "execution_count": 6,
   "metadata": {},
   "outputs": [],
   "source": [
    "with open(\"input.txt\") as f:\n",
    "    tmp = [i.replace('\\n','') for i in f.readlines()]\n",
    "    puzzle1_input = []\n",
    "    for line in tmp:\n",
    "        out = []\n",
    "        for char in line:\n",
    "            out.append(char)\n",
    "        puzzle1_input.append(out)\n",
    "puzzle1_input = np.array(puzzle1_input)"
   ]
  },
  {
   "cell_type": "code",
   "execution_count": 7,
   "metadata": {},
   "outputs": [],
   "source": [
    "p1 = day18(puzzle1_input)\n",
    "output = []\n",
    "for i in range(1000):\n",
    "    p1.evolve1()\n",
    "    outs = \"\".join(str(i) for i in p1.lumber_area.flatten())\n",
    "    output.append(outs.count('|')*outs.count('#'))"
   ]
  },
  {
   "cell_type": "code",
   "execution_count": 8,
   "metadata": {},
   "outputs": [],
   "source": [
    "%matplotlib inline\n",
    "import matplotlib.pyplot as plt"
   ]
  },
  {
   "cell_type": "code",
   "execution_count": 10,
   "metadata": {},
   "outputs": [
    {
     "data": {
      "text/plain": [
       "[<matplotlib.lines.Line2D at 0x7fd8ed2d1c88>]"
      ]
     },
     "execution_count": 10,
     "metadata": {},
     "output_type": "execute_result"
    },
    {
     "data": {
      "image/png": "[encoded data removed]",
      "text/plain": [
       "<Figure size 432x288 with 1 Axes>"
      ]
     },
     "metadata": {
      "needs_background": "light"
     },
     "output_type": "display_data"
    }
   ],
   "source": [
    "plt.plot(output[500:])"
   ]
  },
  {
   "cell_type": "code",
   "execution_count": 27,
   "metadata": {},
   "outputs": [
    {
     "data": {
      "text/plain": [
       "[209292,\n",
       " 212872,\n",
       " 216474,\n",
       " 219425,\n",
       " 223014,\n",
       " 223636,\n",
       " 225156,\n",
       " 228324,\n",
       " 223020,\n",
       " 218400]"
      ]
     },
     "execution_count": 27,
     "metadata": {},
     "output_type": "execute_result"
    }
   ],
   "source": [
    "output[520:530]"
   ]
  },
  {
   "cell_type": "code",
   "execution_count": 25,
   "metadata": {},
   "outputs": [
    {
     "data": {
      "text/plain": [
       "20"
      ]
     },
     "execution_count": 25,
     "metadata": {},
     "output_type": "execute_result"
    }
   ],
   "source": [
    "(1000000000)%28"
   ]
  },
  {
   "cell_type": "code",
   "execution_count": null,
   "metadata": {},
   "outputs": [],
   "source": []
  }
 ],
 "metadata": {
  "kernelspec": {
   "display_name": "Python 3",
   "language": "python",
   "name": "python3"
  },
  "language_info": {
   "codemirror_mode": {
    "name": "ipython",
    "version": 3
   },
   "file_extension": ".py",
   "mimetype": "text/x-python",
   "name": "python",
   "nbconvert_exporter": "python",
   "pygments_lexer": "ipython3",
   "version": "3.6.6"
  }
 },
 "nbformat": 4,
 "nbformat_minor": 2
}
