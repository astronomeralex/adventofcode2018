{
 "cells": [
  {
   "cell_type": "markdown",
   "metadata": {},
   "source": [
    "# Day 10\n",
    "## Puzzle 1"
   ]
  },
  {
   "cell_type": "code",
   "execution_count": 18,
   "metadata": {},
   "outputs": [],
   "source": [
    "%matplotlib inline\n",
    "import pandas as pd\n",
    "import numpy as np\n",
    "import matplotlib.pyplot as plt\n",
    "import scipy.optimize"
   ]
  },
  {
   "cell_type": "code",
   "execution_count": 3,
   "metadata": {},
   "outputs": [],
   "source": [
    "def prep_data(filename):\n",
    "    with open(filename) as f:\n",
    "        lines = f.readlines()\n",
    "    position, velocity = [], []\n",
    "    for line in lines:\n",
    "        s = line.replace('<', '|').replace('>', '|').replace(',', '|').split('|')\n",
    "        pos = [int(s[1]), int(s[2])]\n",
    "        vel = [int(s[4]), int(s[5])]\n",
    "        position.append(pos)\n",
    "        velocity.append(vel)\n",
    "    return np.array(position, dtype=int), np.array(velocity, dtype=int)"
   ]
  },
  {
   "cell_type": "code",
   "execution_count": 10,
   "metadata": {},
   "outputs": [],
   "source": [
    "test_position, test_velocity = prep_data(\"test_input.txt\")\n",
    "position, velocity = prep_data(\"input.txt\")"
   ]
  },
  {
   "cell_type": "code",
   "execution_count": 16,
   "metadata": {},
   "outputs": [],
   "source": [
    "def time_step(position, velocity, time):\n",
    "    return position + velocity*time\n",
    "\n",
    "def time_step_std(time, position, velocity):\n",
    "    return time_step(position, velocity, time)[:,1].std()"
   ]
  },
  {
   "cell_type": "code",
   "execution_count": 20,
   "metadata": {},
   "outputs": [
    {
     "name": "stdout",
     "output_type": "stream",
     "text": [
      "     fun: 2.3782484652269633\n",
      "    nfev: 15\n",
      "     nit: 11\n",
      " success: True\n",
      "       x: 3.0884101039913356\n"
     ]
    }
   ],
   "source": [
    "test = scipy.optimize.minimize_scalar(time_step_std, bracket=[0,10], args=(test_position, test_velocity))\n",
    "print(test)"
   ]
  },
  {
   "cell_type": "code",
   "execution_count": 24,
   "metadata": {},
   "outputs": [
    {
     "data": {
      "text/plain": [
       "<matplotlib.collections.PathCollection at 0x1057227b8>"
      ]
     },
     "execution_count": 24,
     "metadata": {},
     "output_type": "execute_result"
    },
    {
     "data": {
      "image/png": "[encoded data removed]",
      "text/plain": [
       "<Figure size 432x288 with 1 Axes>"
      ]
     },
     "metadata": {
      "needs_background": "light"
     },
     "output_type": "display_data"
    }
   ],
   "source": [
    "pos = time_step(test_position, test_velocity, 3)\n",
    "plt.scatter(pos[:,0], -1*pos[:,1])"
   ]
  },
  {
   "cell_type": "code",
   "execution_count": 25,
   "metadata": {},
   "outputs": [],
   "source": [
    "puzzle1_result = scipy.optimize.minimize_scalar(time_step_std, bracket=[0,100000], args=(position, velocity))"
   ]
  },
  {
   "cell_type": "code",
   "execution_count": 26,
   "metadata": {},
   "outputs": [
    {
     "data": {
      "text/plain": [
       "     fun: 3.3941560033725917\n",
       "    nfev: 25\n",
       "     nit: 21\n",
       " success: True\n",
       "       x: 10866.9751314232"
      ]
     },
     "execution_count": 26,
     "metadata": {},
     "output_type": "execute_result"
    }
   ],
   "source": [
    "puzzle1_result"
   ]
  },
  {
   "cell_type": "code",
   "execution_count": 27,
   "metadata": {},
   "outputs": [
    {
     "data": {
      "text/plain": [
       "<matplotlib.collections.PathCollection at 0x1103c1358>"
      ]
     },
     "execution_count": 27,
     "metadata": {},
     "output_type": "execute_result"
    },
    {
     "data": {
      "image/png": "[encoded data removed]",
      "text/plain": [
       "<Figure size 432x288 with 1 Axes>"
      ]
     },
     "metadata": {
      "needs_background": "light"
     },
     "output_type": "display_data"
    }
   ],
   "source": [
    "pos = time_step(position, velocity, 10867)\n",
    "plt.scatter(pos[:,0], -1*pos[:,1])"
   ]
  },
  {
   "cell_type": "code",
   "execution_count": 35,
   "metadata": {},
   "outputs": [
    {
     "name": "stdout",
     "output_type": "stream",
     "text": [
      "Solution to Puzzle 1 is FPZKLJZG\n",
      "Solution to Puzzle 1 is  10867\n"
     ]
    }
   ],
   "source": [
    "print(\"Solution to Puzzle 1 is FPZKLJZG\")\n",
    "print(\"Solution to Puzzle 1 is \", int(round(puzzle1_result.x)))"
   ]
  },
  {
   "cell_type": "code",
   "execution_count": null,
   "metadata": {},
   "outputs": [],
   "source": []
  }
 ],
 "metadata": {
  "kernelspec": {
   "display_name": "Python 3",
   "language": "python",
   "name": "python3"
  },
  "language_info": {
   "codemirror_mode": {
    "name": "ipython",
    "version": 3
   },
   "file_extension": ".py",
   "mimetype": "text/x-python",
   "name": "python",
   "nbconvert_exporter": "python",
   "pygments_lexer": "ipython3",
   "version": "3.5.6"
  }
 },
 "nbformat": 4,
 "nbformat_minor": 2
}
