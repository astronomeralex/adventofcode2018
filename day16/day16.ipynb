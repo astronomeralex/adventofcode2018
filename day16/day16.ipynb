{
 "cells": [
  {
   "cell_type": "markdown",
   "metadata": {},
   "source": [
    "# Day 16\n",
    "## Puzzle 1"
   ]
  },
  {
   "cell_type": "code",
   "execution_count": 9,
   "metadata": {},
   "outputs": [],
   "source": [
    "# write all the programs!\n",
    "def addr(register, a, b, c):\n",
    "    register[c] = register[a] + register[b]\n",
    "    return register\n",
    "\n",
    "def addi(register, a, b, c):\n",
    "    register[c] = register[a] + b\n",
    "    return register\n",
    "\n",
    "def mulr(register, a, b, c):\n",
    "    register[c] = register[a] * register[b]\n",
    "    return register\n",
    "\n",
    "def muli(register, a, b, c):\n",
    "    register[c] = register[a] * b\n",
    "    return register\n",
    "\n",
    "def banr(register, a, b, c):\n",
    "    register[c] = register[a] & register[b]\n",
    "    return register\n",
    "\n",
    "def bani(register, a, b, c):\n",
    "    register[c] = register[a] & b\n",
    "    return register\n",
    "\n",
    "def borr(register, a, b, c):\n",
    "    register[c] = register[a] | register[b]\n",
    "    return register\n",
    "\n",
    "def bori(register, a, b, c):\n",
    "    register[c] = register[a] | b\n",
    "    return register\n",
    "\n",
    "def setr(register, a, b, c):\n",
    "    register[c] = register[a]\n",
    "    return register\n",
    "\n",
    "def seti(register, a, b, c):\n",
    "    register[c] = a\n",
    "    return register\n",
    "\n",
    "def gtir(register, a, b, c):\n",
    "    register[c] = 1 if a > register[b] else 0\n",
    "    return register\n",
    "\n",
    "def gtri(register, a, b, c):\n",
    "    register[c] = 1 if register[a] > b else 0\n",
    "    return register\n",
    "\n",
    "def gtrr(register, a, b, c):\n",
    "    register[c] = 1 if register[a] > register[b] else 0\n",
    "    return register\n",
    "\n",
    "def eqir(register, a, b, c):\n",
    "    register[c] = 1 if a == register[b] else 0\n",
    "    return register\n",
    "\n",
    "def eqri(register, a, b, c):\n",
    "    register[c] = 1 if register[a] == b else 0\n",
    "    return register\n",
    "\n",
    "def eqrr(register, a, b, c):\n",
    "    register[c] = 1 if register[a] == register[b] else 0\n",
    "    return register\n",
    "\n",
    "opcode_list = [addr, addi, mulr, muli, banr, bani, borr, bori, setr, seti, gtir, gtri, gtrr, eqir, eqri, eqrr]"
   ]
  },
  {
   "cell_type": "code",
   "execution_count": 13,
   "metadata": {},
   "outputs": [],
   "source": [
    "test_register = [3, 2, 1, 1]\n",
    "import copy\n",
    "assert mulr(copy.deepcopy(test_register), 2, 1, 2) == [3, 2, 2, 1]\n",
    "assert addi(copy.deepcopy(test_register), 2, 1, 2) == [3, 2, 2, 1]\n",
    "assert seti(copy.deepcopy(test_register), 2, 1, 2) == [3, 2, 2, 1]\n",
    "assert len(opcode_list) == 16\n",
    "matches = 0\n",
    "for func in opcode_list:\n",
    "    if func(copy.deepcopy(test_register), 2, 1, 2) == [3, 2, 2, 1]:\n",
    "        matches +=1\n",
    "assert matches == 3"
   ]
  },
  {
   "cell_type": "code",
   "execution_count": 18,
   "metadata": {},
   "outputs": [
    {
     "data": {
      "text/plain": [
       "['Before: [0, 1, 2, 1]',\n",
       " '12 3 2 2',\n",
       " 'After:  [0, 1, 1, 1]',\n",
       " '',\n",
       " 'Before: [3, 3, 2, 2]',\n",
       " '1 0 2 2',\n",
       " 'After:  [3, 3, 2, 2]',\n",
       " '',\n",
       " 'Before: [1, 1, 2, 1]',\n",
       " '2 0 2 1']"
      ]
     },
     "execution_count": 18,
     "metadata": {},
     "output_type": "execute_result"
    }
   ],
   "source": [
    "with open(\"input.txt\") as f:\n",
    "    tmp = f.readlines()\n",
    "    day16input = [i.replace('\\n', '') for i in tmp]\n",
    "day16input[:10]"
   ]
  },
  {
   "cell_type": "code",
   "execution_count": 25,
   "metadata": {},
   "outputs": [],
   "source": [
    "def test_opcodes(opcode_list, input_register, a, b, c, output_register):\n",
    "    matches = 0\n",
    "    for func in opcode_list:\n",
    "        if func(copy.deepcopy(input_register), a, b, c) == output_register:\n",
    "            matches += 1\n",
    "    return matches\n",
    "assert test_opcodes(opcode_list, [3,2,1,1], 2, 1, 2, [3,2,2,1]) == 3"
   ]
  },
  {
   "cell_type": "code",
   "execution_count": 30,
   "metadata": {},
   "outputs": [
    {
     "name": "stdout",
     "output_type": "stream",
     "text": [
      "517\n"
     ]
    }
   ],
   "source": [
    "i = iter(day16input)\n",
    "matches = 0\n",
    "while True:\n",
    "    before, dirs, after, blank = next(i), next(i), next(i), next(i)\n",
    "    if 'Before' not in before:\n",
    "        break\n",
    "    input_register = eval(before.split(':')[1])\n",
    "    opcode, a, b, c = [int(i) for i in dirs.split()]\n",
    "    output_register = eval(after.split(':')[1])\n",
    "    if test_opcodes(opcode_list, input_register, a, b, c, output_register) >= 3:\n",
    "        matches += 1\n",
    "print(matches)"
   ]
  },
  {
   "cell_type": "code",
   "execution_count": 46,
   "metadata": {},
   "outputs": [],
   "source": [
    "from collections import defaultdict\n",
    "def match_opcodes(opcode_list, input_register, a, b, c, output_register):\n",
    "    matches = []\n",
    "    for func in opcode_list:\n",
    "        if func(copy.deepcopy(input_register), a, b, c) == output_register:\n",
    "            matches.append(func.__name__)\n",
    "    return matches\n",
    "i = iter(day16input)\n",
    "matches = defaultdict(list)\n",
    "while True:\n",
    "    before, dirs, after, blank = next(i), next(i), next(i), next(i)\n",
    "    if 'Before' not in before:\n",
    "        break\n",
    "    input_register = eval(before.split(':')[1])\n",
    "    opcode, a, b, c = [int(i) for i in dirs.split()]\n",
    "    output_register = eval(after.split(':')[1])\n",
    "    matched_funcnames = match_opcodes(opcode_list, input_register, a, b, c, output_register)\n",
    "    if matched_funcnames not in matches[opcode]:\n",
    "        matches[opcode].append(matched_funcnames)"
   ]
  },
  {
   "cell_type": "code",
   "execution_count": 50,
   "metadata": {},
   "outputs": [],
   "source": [
    "opcode_to_func = {0: eqri, 1: bani, 2: seti, 3: bori, 4: eqir, 5: banr, 6: borr, 7: muli, 8: setr, 9: addr, 10: eqrr, 11: addi, 12: gtir, 13: gtrr, 14: gtri, 15: mulr}"
   ]
  },
  {
   "cell_type": "code",
   "execution_count": 52,
   "metadata": {},
   "outputs": [
    {
     "data": {
      "text/plain": [
       "'7 2 0 0'"
      ]
     },
     "execution_count": 52,
     "metadata": {},
     "output_type": "execute_result"
    }
   ],
   "source": [
    "day16input[3098]"
   ]
  },
  {
   "cell_type": "code",
   "execution_count": 53,
   "metadata": {},
   "outputs": [],
   "source": [
    "register = [0,0,0,0]\n",
    "for op in day16input[3098:]:\n",
    "    opcode, a, b, c = [int(i) for i in op.split()]\n",
    "    register = opcode_to_func[opcode](register, a, b, c)"
   ]
  },
  {
   "cell_type": "code",
   "execution_count": 54,
   "metadata": {},
   "outputs": [
    {
     "data": {
      "text/plain": [
       "[667, 667, 3, 2]"
      ]
     },
     "execution_count": 54,
     "metadata": {},
     "output_type": "execute_result"
    }
   ],
   "source": [
    "register"
   ]
  },
  {
   "cell_type": "code",
   "execution_count": null,
   "metadata": {},
   "outputs": [],
   "source": []
  }
 ],
 "metadata": {
  "kernelspec": {
   "display_name": "Python 3",
   "language": "python",
   "name": "python3"
  },
  "language_info": {
   "codemirror_mode": {
    "name": "ipython",
    "version": 3
   },
   "file_extension": ".py",
   "mimetype": "text/x-python",
   "name": "python",
   "nbconvert_exporter": "python",
   "pygments_lexer": "ipython3",
   "version": "3.6.6"
  }
 },
 "nbformat": 4,
 "nbformat_minor": 2
}
