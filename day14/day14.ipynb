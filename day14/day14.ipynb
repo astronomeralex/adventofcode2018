{
 "cells": [
  {
   "cell_type": "markdown",
   "metadata": {},
   "source": [
    "# Day 14\n",
    "## Puzzle 1"
   ]
  },
  {
   "cell_type": "code",
   "execution_count": 28,
   "metadata": {},
   "outputs": [],
   "source": [
    "def chocolate_charts(total_recipes=4, recipes=[3,7]):\n",
    "    elf1_idx = 0\n",
    "    elf2_idx = 1\n",
    "    while len(recipes) < total_recipes:\n",
    "        score1 = recipes[elf1_idx]\n",
    "        score2 = recipes[elf2_idx]\n",
    "        score = score1 + score2\n",
    "        for i in str(score):\n",
    "            recipes.append(int(i))\n",
    "        elf1_idx = (elf1_idx + score1 + 1) % len(recipes)\n",
    "        elf2_idx = (elf2_idx + score2 + 1) % len(recipes)\n",
    "        #print(recipes)\n",
    "        #print(elf1_idx)\n",
    "        #print(elf2_idx)\n",
    "    return recipes"
   ]
  },
  {
   "cell_type": "code",
   "execution_count": 29,
   "metadata": {},
   "outputs": [],
   "source": [
    "assert \"\".join(str(i) for i in chocolate_charts(100)[9:19]) == '5158916779'\n",
    "assert \"\".join(str(i) for i in chocolate_charts(100)[5:15]) == '0124515891'\n",
    "assert \"\".join(str(i) for i in chocolate_charts(100)[18:28]) == '9251071085'\n",
    "#assert \"\".join(str(i) for i in chocolate_charts(2100)[2018:2028]) == '5941429882'"
   ]
  },
  {
   "cell_type": "code",
   "execution_count": 24,
   "metadata": {},
   "outputs": [
    {
     "data": {
      "text/plain": [
       "'7791381182'"
      ]
     },
     "execution_count": 24,
     "metadata": {},
     "output_type": "execute_result"
    }
   ],
   "source": [
    "\"\".join(str(i) for i in chocolate_charts(894520)[894501:894511])"
   ]
  },
  {
   "cell_type": "code",
   "execution_count": 30,
   "metadata": {},
   "outputs": [],
   "source": [
    "chart = chocolate_charts(2100)"
   ]
  },
  {
   "cell_type": "code",
   "execution_count": 37,
   "metadata": {},
   "outputs": [
    {
     "data": {
      "text/plain": [
       "5"
      ]
     },
     "execution_count": 37,
     "metadata": {},
     "output_type": "execute_result"
    }
   ],
   "source": [
    "chart[2023]"
   ]
  },
  {
   "cell_type": "code",
   "execution_count": 40,
   "metadata": {},
   "outputs": [
    {
     "name": "stdout",
     "output_type": "stream",
     "text": [
      "20365081\n"
     ]
    }
   ],
   "source": [
    "value = 894501\n",
    "digits = [int(digit) for digit in str(value)]\n",
    "scores = [3, 7]\n",
    "elf1, elf2 = 0, 1\n",
    "\n",
    "part1 = False # change to False for part 2\n",
    "\n",
    "while (\n",
    "    len(scores) < value + 10\n",
    ") if part1 else (\n",
    "    scores[-len(digits):] != digits and scores[-len(digits)-1:-1] != digits\n",
    "):\n",
    "    total = scores[elf1] + scores[elf2]\n",
    "    scores.extend(divmod(total, 10) if total >= 10 else (total,))\n",
    "\n",
    "    elf1 = (elf1 + 1 + scores[elf1]) % len(scores)\n",
    "    elf2 = (elf2 + 1 + scores[elf2]) % len(scores)\n",
    "\n",
    "print(\n",
    "    ''.join(str(score) for score in scores[value:value+10])\n",
    "if part1 else\n",
    "    len(scores) - len(digits) - (0 if scores[-len(digits):] == digits else 1)\n",
    ")"
   ]
  },
  {
   "cell_type": "code",
   "execution_count": null,
   "metadata": {},
   "outputs": [],
   "source": []
  }
 ],
 "metadata": {
  "kernelspec": {
   "display_name": "Python 3",
   "language": "python",
   "name": "python3"
  },
  "language_info": {
   "codemirror_mode": {
    "name": "ipython",
    "version": 3
   },
   "file_extension": ".py",
   "mimetype": "text/x-python",
   "name": "python",
   "nbconvert_exporter": "python",
   "pygments_lexer": "ipython3",
   "version": "3.6.6"
  }
 },
 "nbformat": 4,
 "nbformat_minor": 2
}
