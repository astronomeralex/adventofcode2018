{
 "cells": [
  {
   "cell_type": "markdown",
   "metadata": {},
   "source": [
    "# Day 11\n",
    "## Puzzle 1"
   ]
  },
  {
   "cell_type": "code",
   "execution_count": 1,
   "metadata": {},
   "outputs": [],
   "source": [
    "import numpy as np\n",
    "from scipy.ndimage import convolve\n",
    "from itertools import product"
   ]
  },
  {
   "cell_type": "code",
   "execution_count": 2,
   "metadata": {},
   "outputs": [],
   "source": [
    "def calculate_power_level(x, y, grid_serial_numer):\n",
    "    \"\"\"x,y are the 1 indexed coordinates\"\"\"\n",
    "    rackid = x + 10\n",
    "    power_level = rackid * y\n",
    "    power_level += grid_serial_numer\n",
    "    power_level *= rackid\n",
    "    try:\n",
    "        power_level = int(str(power_level)[-3])\n",
    "    except IndexError:\n",
    "        power_level = 0\n",
    "    power_level -= 5\n",
    "    return power_level"
   ]
  },
  {
   "cell_type": "code",
   "execution_count": 3,
   "metadata": {},
   "outputs": [],
   "source": [
    "assert calculate_power_level(122, 79, 57) == -5\n",
    "assert calculate_power_level(217, 196, 39) == 0\n",
    "assert calculate_power_level(101, 153, 71) == 4"
   ]
  },
  {
   "cell_type": "code",
   "execution_count": 4,
   "metadata": {},
   "outputs": [],
   "source": [
    "def power_grid(grid_serial_number, xsize=300, ysize=300):\n",
    "    power_grid = np.zeros((xsize, ysize), dtype=int)\n",
    "    for x, y in product(range(xsize), range(ysize)):\n",
    "        power_grid[x,y] = calculate_power_level(x+1, y+1, grid_serial_number)\n",
    "    return power_grid"
   ]
  },
  {
   "cell_type": "code",
   "execution_count": 5,
   "metadata": {},
   "outputs": [],
   "source": [
    "def max_power_level(grid_serial_number, xsize=300, ysize=300):\n",
    "    grid = power_grid(grid_serial_number, xsize, ysize)\n",
    "    k = np.ones((3,3), dtype=int) # kernel\n",
    "    out = convolve(grid, k, mode='constant')\n",
    "    total_power = np.max(out)\n",
    "    coordinates = np.unravel_index(np.argmax(out), out.shape)\n",
    "    return coordinates, total_power"
   ]
  },
  {
   "cell_type": "code",
   "execution_count": 6,
   "metadata": {},
   "outputs": [],
   "source": [
    "assert max_power_level(42) == ((21, 61), 30)"
   ]
  },
  {
   "cell_type": "code",
   "execution_count": 7,
   "metadata": {},
   "outputs": [
    {
     "name": "stdout",
     "output_type": "stream",
     "text": [
      "Puzzle 1 Solution is ((21, 61), 30)\n"
     ]
    }
   ],
   "source": [
    "print(\"Puzzle 1 Solution is\", max_power_level(6042))"
   ]
  },
  {
   "cell_type": "code",
   "execution_count": 8,
   "metadata": {},
   "outputs": [],
   "source": [
    "def variable_convolution(grid_serial_number, max_conv=20, xsize=300, ysize=300):\n",
    "    grid = power_grid(grid_serial_number, xsize, ysize)\n",
    "    power_dict = {}\n",
    "    for i in range(1, max_conv+1):\n",
    "        if i % 10 == 0: print(i)\n",
    "        k = np.ones((i,i), dtype=int) # kernel\n",
    "        out = convolve(grid, k, mode='constant')\n",
    "        total_power = np.max(out)\n",
    "        coordinates = np.unravel_index(np.argmax(out), out.shape)\n",
    "        power_dict[i] = (total_power, coordinates)\n",
    "    max_power = max(power_dict.keys(), key=(lambda x: power_dict[x][0]))\n",
    "    return power_dict[max_power]"
   ]
  },
  {
   "cell_type": "code",
   "execution_count": 9,
   "metadata": {},
   "outputs": [
    {
     "name": "stdout",
     "output_type": "stream",
     "text": [
      "10\n",
      "20\n"
     ]
    },
    {
     "data": {
      "text/plain": [
       "(113, (96, 275))"
      ]
     },
     "execution_count": 9,
     "metadata": {},
     "output_type": "execute_result"
    }
   ],
   "source": [
    "variable_convolution(18)"
   ]
  },
  {
   "cell_type": "code",
   "execution_count": null,
   "metadata": {},
   "outputs": [],
   "source": []
  }
 ],
 "metadata": {
  "kernelspec": {
   "display_name": "Python 3",
   "language": "python",
   "name": "python3"
  },
  "language_info": {
   "codemirror_mode": {
    "name": "ipython",
    "version": 3
   },
   "file_extension": ".py",
   "mimetype": "text/x-python",
   "name": "python",
   "nbconvert_exporter": "python",
   "pygments_lexer": "ipython3",
   "version": "3.6.6"
  }
 },
 "nbformat": 4,
 "nbformat_minor": 2
}
