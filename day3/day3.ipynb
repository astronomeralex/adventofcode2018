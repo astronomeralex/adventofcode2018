{
 "cells": [
  {
   "cell_type": "markdown",
   "metadata": {},
   "source": [
    "# Day 3\n",
    "## Puzzle 1"
   ]
  },
  {
   "cell_type": "code",
   "execution_count": 1,
   "metadata": {},
   "outputs": [],
   "source": [
    "import pandas as pd\n",
    "import numpy as np"
   ]
  },
  {
   "cell_type": "code",
   "execution_count": 42,
   "metadata": {},
   "outputs": [
    {
     "name": "stdout",
     "output_type": "stream",
     "text": [
      "                    raw\n",
      "0    #1 @ 56,249: 24x16\n",
      "1   #2 @ 682,730: 13x20\n",
      "2   #3 @ 774,241: 22x23\n",
      "3    #4 @ 503,41: 17x15\n",
      "4   #5 @ 174,516: 17x15\n",
      "5     #6 @ 1,184: 16x24\n",
      "6   #7 @ 510,661: 15x29\n",
      "7   #8 @ 396,504: 23x26\n",
      "8   #9 @ 719,523: 26x20\n",
      "9  #10 @ 189,795: 20x24\n",
      "             raw\n",
      "0  #1 @ 1,3: 4x4\n",
      "1  #2 @ 3,1: 4x4\n",
      "2  #3 @ 5,5: 2x2\n"
     ]
    }
   ],
   "source": [
    "df = pd.read_table(\"input.txt\", names=['raw'])\n",
    "test = pd.read_table(\"test_input.txt\", names=['raw'])\n",
    "print(df[:10])\n",
    "print(test)"
   ]
  },
  {
   "cell_type": "code",
   "execution_count": 20,
   "metadata": {},
   "outputs": [],
   "source": [
    "def process_raw(df):\n",
    "    \"\"\"Process raw input into separate fields.\"\"\"\n",
    "    id_num = []\n",
    "    corner = []\n",
    "    size = []\n",
    "    for i in df['raw']:\n",
    "        moose = i.replace(\"#\",'').replace(\"@\",'').replace(':','').replace('x',',').replace(',', ' ').split()\n",
    "        moose = [int(i) for i in moose]\n",
    "        id_num.append(moose[0])\n",
    "        corner.append((moose[1], moose[2]))\n",
    "        size.append((moose[3], moose[4]))\n",
    "    df['idnum'] = pd.Series(id_num, index=df.index)\n",
    "    df['corner'] = pd.Series(corner, index=df.index)\n",
    "    df['size'] = pd.Series(size, index=df.index)\n",
    "    return df"
   ]
  },
  {
   "cell_type": "code",
   "execution_count": 45,
   "metadata": {},
   "outputs": [
    {
     "name": "stdout",
     "output_type": "stream",
     "text": [
      "                    raw  idnum      corner      size\n",
      "0    #1 @ 56,249: 24x16      1   (56, 249)  (24, 16)\n",
      "1   #2 @ 682,730: 13x20      2  (682, 730)  (13, 20)\n",
      "2   #3 @ 774,241: 22x23      3  (774, 241)  (22, 23)\n",
      "3    #4 @ 503,41: 17x15      4   (503, 41)  (17, 15)\n",
      "4   #5 @ 174,516: 17x15      5  (174, 516)  (17, 15)\n",
      "5     #6 @ 1,184: 16x24      6    (1, 184)  (16, 24)\n",
      "6   #7 @ 510,661: 15x29      7  (510, 661)  (15, 29)\n",
      "7   #8 @ 396,504: 23x26      8  (396, 504)  (23, 26)\n",
      "8   #9 @ 719,523: 26x20      9  (719, 523)  (26, 20)\n",
      "9  #10 @ 189,795: 20x24     10  (189, 795)  (20, 24)\n",
      "             raw  idnum  corner    size\n",
      "0  #1 @ 1,3: 4x4      1  (1, 3)  (4, 4)\n",
      "1  #2 @ 3,1: 4x4      2  (3, 1)  (4, 4)\n",
      "2  #3 @ 5,5: 2x2      3  (5, 5)  (2, 2)\n"
     ]
    }
   ],
   "source": [
    "df = process_raw(df)\n",
    "test = process_raw(test)\n",
    "print(df[:10])\n",
    "print(test)"
   ]
  },
  {
   "cell_type": "code",
   "execution_count": 68,
   "metadata": {},
   "outputs": [],
   "source": [
    "def overlapping_fabric(df, fdims=(1000,1000)):\n",
    "    \"\"\"Find overlapping fabric area\"\"\"\n",
    "    arr = np.zeros(fdims, dtype=int)\n",
    "    for index, row in df.iterrows():\n",
    "        corner = row['corner']\n",
    "        size = row['size']\n",
    "        arr[corner[0]:corner[0]+size[0],corner[1]:corner[1]+size[1]]+=1\n",
    "    b = arr >= 2\n",
    "    return b.sum(), arr\n",
    "assert overlapping_fabric(test, fdims=(10,10))[0] == 4"
   ]
  },
  {
   "cell_type": "code",
   "execution_count": 69,
   "metadata": {},
   "outputs": [
    {
     "name": "stdout",
     "output_type": "stream",
     "text": [
      "Puzzle 1 Answer:  118539\n"
     ]
    }
   ],
   "source": [
    "print(\"Puzzle 1 Answer: \", overlapping_fabric(df)[0])"
   ]
  },
  {
   "cell_type": "code",
   "execution_count": 83,
   "metadata": {},
   "outputs": [
    {
     "name": "stdout",
     "output_type": "stream",
     "text": [
      "Found The Answer for Puzzle 2!\n",
      "raw       #3 @ 5,5: 2x2\n",
      "idnum                 3\n",
      "corner           (5, 5)\n",
      "size             (2, 2)\n",
      "Name: 2, dtype: object\n"
     ]
    }
   ],
   "source": [
    "def find_non_overlapping_piece(df, total_overlap=118539, fdims=(1000,1000)):\n",
    "    \"\"\"Use a jacknife approach to find the one piece that doesn't add to the overlapping fabric count\"\"\"\n",
    "    for i in range(len(df)):\n",
    "        jacknife_df = df.drop(i)\n",
    "        overlap, arr = overlapping_fabric(jacknife_df, fdims)\n",
    "        overlapmatch = overlap == total_overlap\n",
    "        dropped_row = df.iloc[i]\n",
    "        corner = dropped_row['corner']\n",
    "        size = dropped_row['size']\n",
    "        arrmatch = np.sum(arr[corner[0]:corner[0]+size[0],corner[1]:corner[1]+size[1]]) == 0\n",
    "        if overlapmatch and arrmatch: #0 because nothing else can be there\n",
    "            print(\"Found The Answer for Puzzle 2!\")\n",
    "            print(df.iloc[i])\n",
    "            break\n",
    "    return df['idnum'][i]\n",
    "assert find_non_overlapping_piece(test, 4, (10,10)) == 3"
   ]
  },
  {
   "cell_type": "code",
   "execution_count": 84,
   "metadata": {},
   "outputs": [
    {
     "name": "stdout",
     "output_type": "stream",
     "text": [
      "Found The Answer for Puzzle 2!\n",
      "raw       #1270 @ 221,290: 24x16\n",
      "idnum                       1270\n",
      "corner                (221, 290)\n",
      "size                    (24, 16)\n",
      "Name: 1269, dtype: object\n",
      "Answer for Puzzle 2 1270\n"
     ]
    }
   ],
   "source": [
    "print(\"Answer for Puzzle 2\", find_non_overlapping_piece(df))"
   ]
  },
  {
   "cell_type": "code",
   "execution_count": null,
   "metadata": {},
   "outputs": [],
   "source": []
  }
 ],
 "metadata": {
  "kernelspec": {
   "display_name": "Python 3",
   "language": "python",
   "name": "python3"
  },
  "language_info": {
   "codemirror_mode": {
    "name": "ipython",
    "version": 3
   },
   "file_extension": ".py",
   "mimetype": "text/x-python",
   "name": "python",
   "nbconvert_exporter": "python",
   "pygments_lexer": "ipython3",
   "version": "3.5.6"
  }
 },
 "nbformat": 4,
 "nbformat_minor": 2
}
